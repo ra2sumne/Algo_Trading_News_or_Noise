{
 "cells": [
  {
   "cell_type": "markdown",
   "metadata": {},
   "source": [
    "# Algo Trading News or Noise"
   ]
  },
  {
   "cell_type": "markdown",
   "metadata": {},
   "source": [
    "## Imports\n",
    "---"
   ]
  },
  {
   "cell_type": "code",
   "execution_count": 121,
   "metadata": {},
   "outputs": [],
   "source": [
    "import pandas as pd\n",
    "import numpy as np\n",
    "import datetime as dt\n",
    "from datetime import datetime\n",
    "from dateutil.relativedelta import relativedelta\n",
    "from pathlib import Path\n",
    "%matplotlib inline\n",
    "import matplotlib.pyplot as plt\n",
    "import plotly.express as px\n",
    "import hvplot.pandas\n",
    "from dotenv import load_dotenv\n",
    "import panel as pn\n",
    "from panel.interact import interact\n",
    "from panel import widgets\n",
    "import alpaca_trade_api as tradeapi\n",
    "import quandl\n",
    "import os\n",
    "import requests\n",
    "import ccxt\n",
    "import time\n",
    "import tensorflow"
   ]
  },
  {
   "cell_type": "markdown",
   "metadata": {},
   "source": [
    "## Read in data\n",
    "---"
   ]
  },
  {
   "cell_type": "code",
   "execution_count": 122,
   "metadata": {},
   "outputs": [
    {
     "data": {
      "text/html": [
       "<div>\n",
       "<style scoped>\n",
       "    .dataframe tbody tr th:only-of-type {\n",
       "        vertical-align: middle;\n",
       "    }\n",
       "\n",
       "    .dataframe tbody tr th {\n",
       "        vertical-align: top;\n",
       "    }\n",
       "\n",
       "    .dataframe thead th {\n",
       "        text-align: right;\n",
       "    }\n",
       "</style>\n",
       "<table border=\"1\" class=\"dataframe\">\n",
       "  <thead>\n",
       "    <tr style=\"text-align: right;\">\n",
       "      <th></th>\n",
       "      <th>SPY</th>\n",
       "      <th>XLF</th>\n",
       "      <th>XLK</th>\n",
       "      <th>XLU</th>\n",
       "      <th>XLI</th>\n",
       "      <th>XLV</th>\n",
       "      <th>XLY</th>\n",
       "      <th>XLP</th>\n",
       "      <th>XLB</th>\n",
       "      <th>XOP</th>\n",
       "      <th>XHB</th>\n",
       "      <th>XME</th>\n",
       "      <th>XRT</th>\n",
       "      <th>ETH</th>\n",
       "      <th>LTC</th>\n",
       "    </tr>\n",
       "  </thead>\n",
       "  <tbody>\n",
       "    <tr>\n",
       "      <th>2020-12-24</th>\n",
       "      <td>368.9899</td>\n",
       "      <td>28.94</td>\n",
       "      <td>129.05</td>\n",
       "      <td>61.19</td>\n",
       "      <td>88.01</td>\n",
       "      <td>111.48</td>\n",
       "      <td>157.91</td>\n",
       "      <td>66.44</td>\n",
       "      <td>71.58</td>\n",
       "      <td>58.99</td>\n",
       "      <td>59.40</td>\n",
       "      <td>32.57</td>\n",
       "      <td>64.740</td>\n",
       "      <td>20.09</td>\n",
       "      <td>39.30</td>\n",
       "    </tr>\n",
       "    <tr>\n",
       "      <th>2020-12-28</th>\n",
       "      <td>372.1400</td>\n",
       "      <td>29.07</td>\n",
       "      <td>130.52</td>\n",
       "      <td>61.48</td>\n",
       "      <td>88.09</td>\n",
       "      <td>111.72</td>\n",
       "      <td>159.68</td>\n",
       "      <td>66.97</td>\n",
       "      <td>71.28</td>\n",
       "      <td>57.92</td>\n",
       "      <td>58.41</td>\n",
       "      <td>32.40</td>\n",
       "      <td>65.070</td>\n",
       "      <td>20.25</td>\n",
       "      <td>39.41</td>\n",
       "    </tr>\n",
       "    <tr>\n",
       "      <th>2020-12-29</th>\n",
       "      <td>371.4800</td>\n",
       "      <td>28.97</td>\n",
       "      <td>129.89</td>\n",
       "      <td>61.47</td>\n",
       "      <td>87.52</td>\n",
       "      <td>112.24</td>\n",
       "      <td>159.74</td>\n",
       "      <td>67.42</td>\n",
       "      <td>71.12</td>\n",
       "      <td>57.35</td>\n",
       "      <td>57.92</td>\n",
       "      <td>32.26</td>\n",
       "      <td>64.275</td>\n",
       "      <td>20.02</td>\n",
       "      <td>39.03</td>\n",
       "    </tr>\n",
       "    <tr>\n",
       "      <th>2020-12-30</th>\n",
       "      <td>371.9300</td>\n",
       "      <td>29.11</td>\n",
       "      <td>129.83</td>\n",
       "      <td>61.79</td>\n",
       "      <td>88.13</td>\n",
       "      <td>112.24</td>\n",
       "      <td>160.69</td>\n",
       "      <td>67.13</td>\n",
       "      <td>72.10</td>\n",
       "      <td>59.32</td>\n",
       "      <td>58.16</td>\n",
       "      <td>33.40</td>\n",
       "      <td>64.910</td>\n",
       "      <td>20.26</td>\n",
       "      <td>38.68</td>\n",
       "    </tr>\n",
       "    <tr>\n",
       "      <th>2020-12-31</th>\n",
       "      <td>373.8500</td>\n",
       "      <td>29.47</td>\n",
       "      <td>130.07</td>\n",
       "      <td>62.70</td>\n",
       "      <td>88.59</td>\n",
       "      <td>113.43</td>\n",
       "      <td>160.77</td>\n",
       "      <td>67.05</td>\n",
       "      <td>72.38</td>\n",
       "      <td>58.49</td>\n",
       "      <td>57.63</td>\n",
       "      <td>33.43</td>\n",
       "      <td>64.330</td>\n",
       "      <td>20.21</td>\n",
       "      <td>38.91</td>\n",
       "    </tr>\n",
       "  </tbody>\n",
       "</table>\n",
       "</div>"
      ],
      "text/plain": [
       "                 SPY    XLF     XLK    XLU    XLI     XLV     XLY    XLP  \\\n",
       "2020-12-24  368.9899  28.94  129.05  61.19  88.01  111.48  157.91  66.44   \n",
       "2020-12-28  372.1400  29.07  130.52  61.48  88.09  111.72  159.68  66.97   \n",
       "2020-12-29  371.4800  28.97  129.89  61.47  87.52  112.24  159.74  67.42   \n",
       "2020-12-30  371.9300  29.11  129.83  61.79  88.13  112.24  160.69  67.13   \n",
       "2020-12-31  373.8500  29.47  130.07  62.70  88.59  113.43  160.77  67.05   \n",
       "\n",
       "              XLB    XOP    XHB    XME     XRT    ETH    LTC  \n",
       "2020-12-24  71.58  58.99  59.40  32.57  64.740  20.09  39.30  \n",
       "2020-12-28  71.28  57.92  58.41  32.40  65.070  20.25  39.41  \n",
       "2020-12-29  71.12  57.35  57.92  32.26  64.275  20.02  39.03  \n",
       "2020-12-30  72.10  59.32  58.16  33.40  64.910  20.26  38.68  \n",
       "2020-12-31  72.38  58.49  57.63  33.43  64.330  20.21  38.91  "
      ]
     },
     "execution_count": 122,
     "metadata": {},
     "output_type": "execute_result"
    }
   ],
   "source": [
    "ETF_csv = Path(\"Resources/ETFs0.csv\")\n",
    "ETF_df = pd.read_csv(ETF_csv, index_col='Unnamed: 0', infer_datetime_format=True, parse_dates=True)\n",
    "ETF_df = ETF_df.drop(ETF_df.index[0])\n",
    "ETF_df.index = pd.to_datetime(ETF_df.index, utc=True).date\n",
    "ETF_df.sort_index(inplace=True)\n",
    "ETF_df.tail()"
   ]
  },
  {
   "cell_type": "markdown",
   "metadata": {},
   "source": [
    "## Set analysis inputs\n",
    "---\n"
   ]
  },
  {
   "cell_type": "code",
   "execution_count": 123,
   "metadata": {},
   "outputs": [
    {
     "name": "stdin",
     "output_type": "stream",
     "text": [
      "Please enter the symbol name in caps:\n",
      " SPY\n",
      "Please input the amount of capital you have (USD):\n",
      " 10000\n",
      "Please input the lot size you wish to trade:\n",
      " 1\n",
      "Please choose a short moving average lookback window: 20, 50 days\n",
      " 50\n",
      "Please choose a long moving average lookback window: 100, 200 days\n",
      " 200\n",
      "Please choose a 10, 20, 50 bollinger lookback window\n",
      " 20\n"
     ]
    }
   ],
   "source": [
    "ticker = input(\"Please enter the symbol name in caps:\\n\")\n",
    "\n",
    "# Set intial capital\n",
    "initial_capital = input(\"Please input the amount of capital you have (USD):\\n\")\n",
    "initial_capital = int(initial_capital)\n",
    "\n",
    "# Set lot size\n",
    "share_size = input(\"Please input the lot size you wish to trade:\\n\")\n",
    "share_size = int(share_size)\n",
    "\n",
    "# Set windows\n",
    "short_window = input(\"Please choose a short moving average lookback window: 20, 50 days\\n\")\n",
    "short_window = int(short_window)\n",
    "long_window = input(\"Please choose a long moving average lookback window: 100, 200 days\\n\")\n",
    "long_window = int(long_window)\n",
    "bollinger_window = input(\"Please choose a 10, 20, 50 bollinger lookback window\\n\")\n",
    "bollinger_window = int(bollinger_window)"
   ]
  },
  {
   "cell_type": "markdown",
   "metadata": {},
   "source": [
    "\n",
    "## Signal generation\n",
    "---\n",
    "### SMA\n",
    "*Simple Moving Average for a given lookback window*"
   ]
  },
  {
   "cell_type": "code",
   "execution_count": 181,
   "metadata": {},
   "outputs": [],
   "source": [
    "# Grab `ticker` from the dataset\n",
    "SMA_df = ETF_df[f'{ticker}'].copy().to_frame()"
   ]
  },
  {
   "cell_type": "code",
   "execution_count": 182,
   "metadata": {},
   "outputs": [],
   "source": [
    "# Generate the short and long moving averages (50 and 100 days, respectively)\n",
    "SMA_df[\"SMA_short\"] = SMA_df[{ticker}].rolling(window=short_window).mean()\n",
    "SMA_df[\"SMA_long\"] = SMA_df[{ticker}].rolling(window=long_window).mean()"
   ]
  },
  {
   "cell_type": "code",
   "execution_count": 183,
   "metadata": {},
   "outputs": [],
   "source": [
    "# Initialize the new `Signal` column\n",
    "SMA_df[\"signal\"] = 0.0\n",
    "\n",
    "# Generate the trading signal -1, 1,\n",
    "# where -1 is when the SMA50 is under the SMA100, and\n",
    "# where 1 is when the SMA50 is higher (or crosses over) the SMA100\n",
    "SMA_df[\"signal\"][short_window:] = np.where(\n",
    "    SMA_df[\"SMA_short\"][short_window:] < SMA_df[\"SMA_long\"][short_window:], -1.0, 1.0\n",
    ")"
   ]
  },
  {
   "cell_type": "code",
   "execution_count": 184,
   "metadata": {},
   "outputs": [],
   "source": [
    "# Calculate the points in time at which a position should be taken, 1 or -1\n",
    "SMA_df[\"entry/exit\"] = SMA_df[\"signal\"].diff()"
   ]
  },
  {
   "cell_type": "code",
   "execution_count": 185,
   "metadata": {},
   "outputs": [
    {
     "data": {
      "text/html": [
       "<div>\n",
       "<style scoped>\n",
       "    .dataframe tbody tr th:only-of-type {\n",
       "        vertical-align: middle;\n",
       "    }\n",
       "\n",
       "    .dataframe tbody tr th {\n",
       "        vertical-align: top;\n",
       "    }\n",
       "\n",
       "    .dataframe thead th {\n",
       "        text-align: right;\n",
       "    }\n",
       "</style>\n",
       "<table border=\"1\" class=\"dataframe\">\n",
       "  <thead>\n",
       "    <tr style=\"text-align: right;\">\n",
       "      <th></th>\n",
       "      <th>SPY</th>\n",
       "      <th>SMA_short</th>\n",
       "      <th>SMA_long</th>\n",
       "      <th>signal</th>\n",
       "      <th>entry/exit</th>\n",
       "    </tr>\n",
       "  </thead>\n",
       "  <tbody>\n",
       "    <tr>\n",
       "      <th>2020-12-24</th>\n",
       "      <td>368.9899</td>\n",
       "      <td>355.74239</td>\n",
       "      <td>320.438481</td>\n",
       "      <td>1.0</td>\n",
       "      <td>0.0</td>\n",
       "    </tr>\n",
       "    <tr>\n",
       "      <th>2020-12-28</th>\n",
       "      <td>372.1400</td>\n",
       "      <td>356.23499</td>\n",
       "      <td>320.944531</td>\n",
       "      <td>1.0</td>\n",
       "      <td>0.0</td>\n",
       "    </tr>\n",
       "    <tr>\n",
       "      <th>2020-12-29</th>\n",
       "      <td>371.4800</td>\n",
       "      <td>356.71959</td>\n",
       "      <td>321.604881</td>\n",
       "      <td>1.0</td>\n",
       "      <td>0.0</td>\n",
       "    </tr>\n",
       "    <tr>\n",
       "      <th>2020-12-30</th>\n",
       "      <td>371.9300</td>\n",
       "      <td>357.31779</td>\n",
       "      <td>322.193581</td>\n",
       "      <td>1.0</td>\n",
       "      <td>0.0</td>\n",
       "    </tr>\n",
       "    <tr>\n",
       "      <th>2020-12-31</th>\n",
       "      <td>373.8500</td>\n",
       "      <td>357.92799</td>\n",
       "      <td>322.857781</td>\n",
       "      <td>1.0</td>\n",
       "      <td>0.0</td>\n",
       "    </tr>\n",
       "  </tbody>\n",
       "</table>\n",
       "</div>"
      ],
      "text/plain": [
       "                 SPY  SMA_short    SMA_long  signal  entry/exit\n",
       "2020-12-24  368.9899  355.74239  320.438481     1.0         0.0\n",
       "2020-12-28  372.1400  356.23499  320.944531     1.0         0.0\n",
       "2020-12-29  371.4800  356.71959  321.604881     1.0         0.0\n",
       "2020-12-30  371.9300  357.31779  322.193581     1.0         0.0\n",
       "2020-12-31  373.8500  357.92799  322.857781     1.0         0.0"
      ]
     },
     "execution_count": 185,
     "metadata": {},
     "output_type": "execute_result"
    }
   ],
   "source": [
    "# Tidy up\n",
    "SMA_df.dropna(inplace=True)\n",
    "SMA_df.tail()"
   ]
  },
  {
   "cell_type": "markdown",
   "metadata": {},
   "source": [
    "---\n",
    "### EMA\n",
    "*Exponential-weighted Moving Average for a given lookback window*"
   ]
  },
  {
   "cell_type": "code",
   "execution_count": 186,
   "metadata": {},
   "outputs": [],
   "source": [
    "# Grab `ticker` from the dataset\n",
    "EMA_df = ETF_df[f'{ticker}'].copy().to_frame()"
   ]
  },
  {
   "cell_type": "code",
   "execution_count": 187,
   "metadata": {},
   "outputs": [],
   "source": [
    "# Construct a `Fast` and `Slow` Exponential Moving Average from short and long windows, respectively\n",
    "EMA_df['EMA_short'] = EMA_df[{ticker}].ewm(halflife=short_window).mean()\n",
    "EMA_df['EMA_long'] = EMA_df[{ticker}].ewm(halflife=long_window).mean()"
   ]
  },
  {
   "cell_type": "code",
   "execution_count": 188,
   "metadata": {},
   "outputs": [],
   "source": [
    "# Initialize signal column\n",
    "EMA_df[\"signal\"] = 0.0\n",
    "\n",
    "# Construct a crossover trading signal\n",
    "# where -1 is when the EMA50 is under the EMA200, and\n",
    "# where 1 is when the EMA50 is higher (or crosses over) the EMA200\n",
    "EMA_df[\"signal\"][short_window:] = np.where(\n",
    "    EMA_df[\"EMA_short\"][short_window:] < EMA_df[\"EMA_long\"][short_window:], -1.0, 1.0\n",
    ")"
   ]
  },
  {
   "cell_type": "code",
   "execution_count": 189,
   "metadata": {},
   "outputs": [],
   "source": [
    "# Calculate the points in time at which a position should be taken, 1 or -1\n",
    "EMA_df[\"entry/exit\"] = EMA_df[\"signal\"].diff()"
   ]
  },
  {
   "cell_type": "code",
   "execution_count": 190,
   "metadata": {},
   "outputs": [
    {
     "data": {
      "text/html": [
       "<div>\n",
       "<style scoped>\n",
       "    .dataframe tbody tr th:only-of-type {\n",
       "        vertical-align: middle;\n",
       "    }\n",
       "\n",
       "    .dataframe tbody tr th {\n",
       "        vertical-align: top;\n",
       "    }\n",
       "\n",
       "    .dataframe thead th {\n",
       "        text-align: right;\n",
       "    }\n",
       "</style>\n",
       "<table border=\"1\" class=\"dataframe\">\n",
       "  <thead>\n",
       "    <tr style=\"text-align: right;\">\n",
       "      <th></th>\n",
       "      <th>SPY</th>\n",
       "      <th>EMA_short</th>\n",
       "      <th>EMA_long</th>\n",
       "      <th>signal</th>\n",
       "      <th>entry/exit</th>\n",
       "    </tr>\n",
       "  </thead>\n",
       "  <tbody>\n",
       "    <tr>\n",
       "      <th>2020-12-24</th>\n",
       "      <td>368.9899</td>\n",
       "      <td>339.752754</td>\n",
       "      <td>305.589812</td>\n",
       "      <td>1.0</td>\n",
       "      <td>0.0</td>\n",
       "    </tr>\n",
       "    <tr>\n",
       "      <th>2020-12-28</th>\n",
       "      <td>372.1400</td>\n",
       "      <td>340.198639</td>\n",
       "      <td>305.820074</td>\n",
       "      <td>1.0</td>\n",
       "      <td>0.0</td>\n",
       "    </tr>\n",
       "    <tr>\n",
       "      <th>2020-12-29</th>\n",
       "      <td>371.4800</td>\n",
       "      <td>340.629299</td>\n",
       "      <td>306.047256</td>\n",
       "      <td>1.0</td>\n",
       "      <td>0.0</td>\n",
       "    </tr>\n",
       "    <tr>\n",
       "      <th>2020-12-30</th>\n",
       "      <td>371.9300</td>\n",
       "      <td>341.060225</td>\n",
       "      <td>306.275208</td>\n",
       "      <td>1.0</td>\n",
       "      <td>0.0</td>\n",
       "    </tr>\n",
       "    <tr>\n",
       "      <th>2020-12-31</th>\n",
       "      <td>373.8500</td>\n",
       "      <td>341.511651</td>\n",
       "      <td>306.509015</td>\n",
       "      <td>1.0</td>\n",
       "      <td>0.0</td>\n",
       "    </tr>\n",
       "  </tbody>\n",
       "</table>\n",
       "</div>"
      ],
      "text/plain": [
       "                 SPY   EMA_short    EMA_long  signal  entry/exit\n",
       "2020-12-24  368.9899  339.752754  305.589812     1.0         0.0\n",
       "2020-12-28  372.1400  340.198639  305.820074     1.0         0.0\n",
       "2020-12-29  371.4800  340.629299  306.047256     1.0         0.0\n",
       "2020-12-30  371.9300  341.060225  306.275208     1.0         0.0\n",
       "2020-12-31  373.8500  341.511651  306.509015     1.0         0.0"
      ]
     },
     "execution_count": 190,
     "metadata": {},
     "output_type": "execute_result"
    }
   ],
   "source": [
    "# Tidy up\n",
    "EMA_df.dropna(inplace=True)\n",
    "EMA_df.tail()"
   ]
  },
  {
   "cell_type": "markdown",
   "metadata": {},
   "source": [
    "---\n",
    "### BBD\n",
    "*Bollinger Bands for a given lookback window*"
   ]
  },
  {
   "cell_type": "code",
   "execution_count": 191,
   "metadata": {},
   "outputs": [],
   "source": [
    "# Grab `ticker` from the dataset\n",
    "BBD_df = ETF_df[f'{ticker}'].copy().to_frame()"
   ]
  },
  {
   "cell_type": "code",
   "execution_count": 192,
   "metadata": {},
   "outputs": [],
   "source": [
    "# Calculate rolling mean and standard deviation\n",
    "BBD_df['BBD_mid'] = BBD_df[{ticker}].rolling(window=bollinger_window).mean()\n",
    "BBD_df['BBD_std'] = BBD_df[{ticker}].rolling(window=bollinger_window).std()"
   ]
  },
  {
   "cell_type": "code",
   "execution_count": 193,
   "metadata": {},
   "outputs": [],
   "source": [
    "# Calculate upper and lowers bands of bollinger band\n",
    "BBD_df['BBD_upper']  = BBD_df['BBD_mid'] + (BBD_df['BBD_std'] * 1)\n",
    "BBD_df['BBD_lower']  = BBD_df['BBD_mid'] - (BBD_df['BBD_std'] * 1)"
   ]
  },
  {
   "cell_type": "code",
   "execution_count": 194,
   "metadata": {},
   "outputs": [],
   "source": [
    "# Construct a crossover trading signal\n",
    "# where 1 is when the close is under the lower bound, and\n",
    "# where -1 is when the close is higher the upper bound\n",
    "BBD_df['long'] = np.where(BBD_df[f'{ticker}'] < BBD_df['BBD_lower'], 1.0, 0.0)\n",
    "BBD_df['short'] = np.where(BBD_df[f'{ticker}'] > BBD_df['BBD_upper'], -1.0, 0.0)"
   ]
  },
  {
   "cell_type": "code",
   "execution_count": 195,
   "metadata": {},
   "outputs": [],
   "source": [
    "# Calculate bollinger band trading signal\n",
    "BBD_df['signal'] = BBD_df['long'] + BBD_df['short']\n",
    "BBD_df[\"entry/exit\"] = BBD_df[\"signal\"].diff()"
   ]
  },
  {
   "cell_type": "code",
   "execution_count": 196,
   "metadata": {},
   "outputs": [
    {
     "data": {
      "text/html": [
       "<div>\n",
       "<style scoped>\n",
       "    .dataframe tbody tr th:only-of-type {\n",
       "        vertical-align: middle;\n",
       "    }\n",
       "\n",
       "    .dataframe tbody tr th {\n",
       "        vertical-align: top;\n",
       "    }\n",
       "\n",
       "    .dataframe thead th {\n",
       "        text-align: right;\n",
       "    }\n",
       "</style>\n",
       "<table border=\"1\" class=\"dataframe\">\n",
       "  <thead>\n",
       "    <tr style=\"text-align: right;\">\n",
       "      <th></th>\n",
       "      <th>SPY</th>\n",
       "      <th>BBD_mid</th>\n",
       "      <th>BBD_std</th>\n",
       "      <th>BBD_upper</th>\n",
       "      <th>BBD_lower</th>\n",
       "      <th>long</th>\n",
       "      <th>short</th>\n",
       "      <th>signal</th>\n",
       "      <th>entry/exit</th>\n",
       "    </tr>\n",
       "  </thead>\n",
       "  <tbody>\n",
       "    <tr>\n",
       "      <th>2020-12-24</th>\n",
       "      <td>368.9899</td>\n",
       "      <td>367.568975</td>\n",
       "      <td>2.439630</td>\n",
       "      <td>370.008605</td>\n",
       "      <td>365.129345</td>\n",
       "      <td>0.0</td>\n",
       "      <td>0.0</td>\n",
       "      <td>0.0</td>\n",
       "      <td>0.0</td>\n",
       "    </tr>\n",
       "    <tr>\n",
       "      <th>2020-12-28</th>\n",
       "      <td>372.1400</td>\n",
       "      <td>367.993475</td>\n",
       "      <td>2.460381</td>\n",
       "      <td>370.453856</td>\n",
       "      <td>365.533094</td>\n",
       "      <td>0.0</td>\n",
       "      <td>-1.0</td>\n",
       "      <td>-1.0</td>\n",
       "      <td>-1.0</td>\n",
       "    </tr>\n",
       "    <tr>\n",
       "      <th>2020-12-29</th>\n",
       "      <td>371.4800</td>\n",
       "      <td>368.467475</td>\n",
       "      <td>2.136852</td>\n",
       "      <td>370.604327</td>\n",
       "      <td>366.330623</td>\n",
       "      <td>0.0</td>\n",
       "      <td>-1.0</td>\n",
       "      <td>-1.0</td>\n",
       "      <td>0.0</td>\n",
       "    </tr>\n",
       "    <tr>\n",
       "      <th>2020-12-30</th>\n",
       "      <td>371.9300</td>\n",
       "      <td>368.765475</td>\n",
       "      <td>2.185264</td>\n",
       "      <td>370.950739</td>\n",
       "      <td>366.580211</td>\n",
       "      <td>0.0</td>\n",
       "      <td>-1.0</td>\n",
       "      <td>-1.0</td>\n",
       "      <td>0.0</td>\n",
       "    </tr>\n",
       "    <tr>\n",
       "      <th>2020-12-31</th>\n",
       "      <td>373.8500</td>\n",
       "      <td>369.119980</td>\n",
       "      <td>2.406666</td>\n",
       "      <td>371.526646</td>\n",
       "      <td>366.713314</td>\n",
       "      <td>0.0</td>\n",
       "      <td>-1.0</td>\n",
       "      <td>-1.0</td>\n",
       "      <td>0.0</td>\n",
       "    </tr>\n",
       "  </tbody>\n",
       "</table>\n",
       "</div>"
      ],
      "text/plain": [
       "                 SPY     BBD_mid   BBD_std   BBD_upper   BBD_lower  long  \\\n",
       "2020-12-24  368.9899  367.568975  2.439630  370.008605  365.129345   0.0   \n",
       "2020-12-28  372.1400  367.993475  2.460381  370.453856  365.533094   0.0   \n",
       "2020-12-29  371.4800  368.467475  2.136852  370.604327  366.330623   0.0   \n",
       "2020-12-30  371.9300  368.765475  2.185264  370.950739  366.580211   0.0   \n",
       "2020-12-31  373.8500  369.119980  2.406666  371.526646  366.713314   0.0   \n",
       "\n",
       "            short  signal  entry/exit  \n",
       "2020-12-24    0.0     0.0         0.0  \n",
       "2020-12-28   -1.0    -1.0        -1.0  \n",
       "2020-12-29   -1.0    -1.0         0.0  \n",
       "2020-12-30   -1.0    -1.0         0.0  \n",
       "2020-12-31   -1.0    -1.0         0.0  "
      ]
     },
     "execution_count": 196,
     "metadata": {},
     "output_type": "execute_result"
    }
   ],
   "source": [
    "# Tidy up\n",
    "BBD_df.dropna(inplace=True)\n",
    "BBD_df.tail()"
   ]
  },
  {
   "cell_type": "markdown",
   "metadata": {},
   "source": [
    "---\n",
    "### RSI\n",
    "*Relative Strength Index for a given lookback window*"
   ]
  },
  {
   "cell_type": "code",
   "execution_count": 197,
   "metadata": {},
   "outputs": [
    {
     "data": {
      "text/html": [
       "<div>\n",
       "<style scoped>\n",
       "    .dataframe tbody tr th:only-of-type {\n",
       "        vertical-align: middle;\n",
       "    }\n",
       "\n",
       "    .dataframe tbody tr th {\n",
       "        vertical-align: top;\n",
       "    }\n",
       "\n",
       "    .dataframe thead th {\n",
       "        text-align: right;\n",
       "    }\n",
       "</style>\n",
       "<table border=\"1\" class=\"dataframe\">\n",
       "  <thead>\n",
       "    <tr style=\"text-align: right;\">\n",
       "      <th></th>\n",
       "      <th>SPY</th>\n",
       "      <th>change</th>\n",
       "      <th>gain</th>\n",
       "      <th>loss</th>\n",
       "      <th>avg_gain</th>\n",
       "      <th>avg_loss</th>\n",
       "      <th>rs</th>\n",
       "      <th>rsi</th>\n",
       "      <th>signal</th>\n",
       "      <th>entry/exit</th>\n",
       "    </tr>\n",
       "  </thead>\n",
       "  <tbody>\n",
       "    <tr>\n",
       "      <th>2020-12-24</th>\n",
       "      <td>368.9899</td>\n",
       "      <td>1.4599</td>\n",
       "      <td>1.4599</td>\n",
       "      <td>0.00</td>\n",
       "      <td>1.159667</td>\n",
       "      <td>-0.791133</td>\n",
       "      <td>1.465831</td>\n",
       "      <td>59.445718</td>\n",
       "      <td>0.0</td>\n",
       "      <td>0.0</td>\n",
       "    </tr>\n",
       "    <tr>\n",
       "      <th>2020-12-28</th>\n",
       "      <td>372.1400</td>\n",
       "      <td>3.1501</td>\n",
       "      <td>3.1501</td>\n",
       "      <td>0.00</td>\n",
       "      <td>1.301841</td>\n",
       "      <td>-0.734623</td>\n",
       "      <td>1.772120</td>\n",
       "      <td>63.926525</td>\n",
       "      <td>0.0</td>\n",
       "      <td>0.0</td>\n",
       "    </tr>\n",
       "    <tr>\n",
       "      <th>2020-12-29</th>\n",
       "      <td>371.4800</td>\n",
       "      <td>-0.6600</td>\n",
       "      <td>0.0000</td>\n",
       "      <td>-0.66</td>\n",
       "      <td>1.208852</td>\n",
       "      <td>-0.729293</td>\n",
       "      <td>1.657567</td>\n",
       "      <td>62.371596</td>\n",
       "      <td>0.0</td>\n",
       "      <td>0.0</td>\n",
       "    </tr>\n",
       "    <tr>\n",
       "      <th>2020-12-30</th>\n",
       "      <td>371.9300</td>\n",
       "      <td>0.4500</td>\n",
       "      <td>0.4500</td>\n",
       "      <td>0.00</td>\n",
       "      <td>1.154649</td>\n",
       "      <td>-0.677201</td>\n",
       "      <td>1.705031</td>\n",
       "      <td>63.031849</td>\n",
       "      <td>0.0</td>\n",
       "      <td>0.0</td>\n",
       "    </tr>\n",
       "    <tr>\n",
       "      <th>2020-12-31</th>\n",
       "      <td>373.8500</td>\n",
       "      <td>1.9200</td>\n",
       "      <td>1.9200</td>\n",
       "      <td>0.00</td>\n",
       "      <td>1.209316</td>\n",
       "      <td>-0.628829</td>\n",
       "      <td>1.923123</td>\n",
       "      <td>65.790018</td>\n",
       "      <td>0.0</td>\n",
       "      <td>0.0</td>\n",
       "    </tr>\n",
       "  </tbody>\n",
       "</table>\n",
       "</div>"
      ],
      "text/plain": [
       "                 SPY  change    gain  loss  avg_gain  avg_loss        rs  \\\n",
       "2020-12-24  368.9899  1.4599  1.4599  0.00  1.159667 -0.791133  1.465831   \n",
       "2020-12-28  372.1400  3.1501  3.1501  0.00  1.301841 -0.734623  1.772120   \n",
       "2020-12-29  371.4800 -0.6600  0.0000 -0.66  1.208852 -0.729293  1.657567   \n",
       "2020-12-30  371.9300  0.4500  0.4500  0.00  1.154649 -0.677201  1.705031   \n",
       "2020-12-31  373.8500  1.9200  1.9200  0.00  1.209316 -0.628829  1.923123   \n",
       "\n",
       "                  rsi  signal  entry/exit  \n",
       "2020-12-24  59.445718     0.0         0.0  \n",
       "2020-12-28  63.926525     0.0         0.0  \n",
       "2020-12-29  62.371596     0.0         0.0  \n",
       "2020-12-30  63.031849     0.0         0.0  \n",
       "2020-12-31  65.790018     0.0         0.0  "
      ]
     },
     "execution_count": 197,
     "metadata": {},
     "output_type": "execute_result"
    }
   ],
   "source": [
    "# Calculate daily change\n",
    "RSI_df = ETF_df[f'{ticker}'].copy().to_frame()\n",
    "RSI_df['change'] = RSI_df[f'{ticker}'].diff(1)\n",
    "\n",
    "# Caculate gain / loss from every changes and add as column to RSI_df\n",
    "RSI_df['gain'] = np.select([RSI_df['change']>0, RSI_df['change'].isna()],\n",
    "                       [RSI_df['change'], np.nan],\n",
    "                       default=0)\n",
    "RSI_df['loss'] = np.select([RSI_df['change']<0, RSI_df['change'].isna()],\n",
    "                       [RSI_df['change'], np.nan],\n",
    "                       default=0)\n",
    "\n",
    "# Create avg_gain / avg_loss columns with all nan\n",
    "RSI_df['avg_gain'] = np.nan\n",
    "RSI_df['avg_loss'] = np.nan\n",
    "\n",
    "# Set the window (in this example we are using 14 days, should we make this an input as well?)\n",
    "n = 14\n",
    "\n",
    "# calculate rolling 14 day avg or gains and losses and add to the avg_gain and avg_loss columns\n",
    "RSI_df['avg_gain'][n] = RSI_df['gain'].rolling(window=n).mean().dropna().iloc[0]\n",
    "RSI_df['avg_loss'][n] = RSI_df['loss'].rolling(window=n).mean().dropna().iloc[0]\n",
    "for i in range(n+1, RSI_df.shape[0]):\n",
    "    RSI_df['avg_gain'].iloc[i] = (RSI_df['avg_gain'].iloc[i-1] * (n - 1) + RSI_df['gain'].iloc[i]) / n\n",
    "    RSI_df['avg_loss'].iloc[i] = (RSI_df['avg_loss'].iloc[i-1] * (n - 1) + RSI_df['loss'].iloc[i]) / n\n",
    "\n",
    "    # Calculate RS and RSI\n",
    "RSI_df['rs'] = abs(RSI_df['avg_gain'] / RSI_df['avg_loss'])\n",
    "RSI_df['rsi'] = 100 - (100 / (1 + RSI_df['rs'] ))\n",
    "RSI_df.head(25)\n",
    "# Initialize the new `Signal` column\n",
    "RSI_df[\"signal\"] = 0.0\n",
    "RSI_df.head()\n",
    "\n",
    "# Generate the trading signal -1, 1,\n",
    "# where -1 is when the RSI is above 70\n",
    "# where 1 is when the RSI is below 30\n",
    "for i in range(0, len(RSI_df)):\n",
    "    if RSI_df['rsi'].iloc[i] > 70:\n",
    "        RSI_df['signal'].iloc[i] = -1\n",
    "    elif RSI_df['rsi'].iloc[i] < 30:\n",
    "        RSI_df['signal'].iloc[i] = 1\n",
    "    else:\n",
    "        RSI_df['signal'].iloc[i] = 0\n",
    "RSI_df.head(50)\n",
    "\n",
    "# Calculate the points in time at which a position should be taken, 1 or -1\n",
    "RSI_df[\"entry/exit\"] = RSI_df[\"signal\"]\n",
    "RSI_df.tail()"
   ]
  },
  {
   "cell_type": "markdown",
   "metadata": {},
   "source": [
    "---\n",
    "### MACD\n",
    "*Moving Average Convergence/ Divergence for a given lookback window*"
   ]
  },
  {
   "cell_type": "code",
   "execution_count": 198,
   "metadata": {},
   "outputs": [],
   "source": [
    "########################### TO DO ########################### "
   ]
  },
  {
   "cell_type": "markdown",
   "metadata": {},
   "source": [
    "## Backtesting\n",
    "---\n",
    "### Simulated portfolio\n",
    "*Evaluate historic signal performance*"
   ]
  },
  {
   "cell_type": "code",
   "execution_count": 199,
   "metadata": {},
   "outputs": [],
   "source": [
    "# Take a 500 share position where the dual moving average crossover is 1 (SMA50 is greater than SMA100)\n",
    "SMA_df[\"position\"] = share_size * SMA_df[\"signal\"]\n",
    "EMA_df[\"position\"] = share_size * EMA_df[\"signal\"]\n",
    "BBD_df[\"position\"] = share_size * BBD_df[\"signal\"]\n",
    "RSI_df[\"position\"] = share_size * RSI_df[\"signal\"]"
   ]
  },
  {
   "cell_type": "code",
   "execution_count": 200,
   "metadata": {},
   "outputs": [],
   "source": [
    "# Find the points in time where a 500 share position is bought or sold\n",
    "SMA_df[\"entry/exit position\"] = SMA_df[\"position\"].diff()\n",
    "EMA_df[\"entry/exit position\"] = EMA_df[\"position\"].diff()\n",
    "BBD_df[\"entry/exit position\"] = BBD_df[\"position\"].diff()\n",
    "RSI_df[\"entry/exit position\"] = RSI_df[\"position\"].diff()"
   ]
  },
  {
   "cell_type": "code",
   "execution_count": 201,
   "metadata": {},
   "outputs": [],
   "source": [
    "# Multiply share price by entry/exit positions and get the cumulatively sum\n",
    "SMA_df[\"portfolio holdings\"] = (SMA_df[f'{ticker}'] * SMA_df[\"entry/exit position\"].cumsum())\n",
    "EMA_df[\"portfolio holdings\"] = (EMA_df[f'{ticker}'] * EMA_df[\"entry/exit position\"].cumsum())\n",
    "BBD_df[\"portfolio holdings\"] = (BBD_df[f'{ticker}'] * BBD_df[\"entry/exit position\"].cumsum())\n",
    "RSI_df[\"portfolio holdings\"] = (RSI_df[f'{ticker}'] * RSI_df[\"entry/exit position\"].cumsum())"
   ]
  },
  {
   "cell_type": "code",
   "execution_count": 202,
   "metadata": {},
   "outputs": [],
   "source": [
    "# Subtract the initial capital by the portfolio holdings to get the amount of liquid cash in the portfolio\n",
    "SMA_df[\"portfolio cash\"] = (initial_capital - (SMA_df[f'{ticker}'] * SMA_df[\"entry/exit position\"]).cumsum())\n",
    "EMA_df[\"portfolio cash\"] = (initial_capital - (EMA_df[f'{ticker}'] * EMA_df[\"entry/exit position\"]).cumsum())\n",
    "BBD_df[\"portfolio cash\"] = (initial_capital - (BBD_df[f'{ticker}'] * BBD_df[\"entry/exit position\"]).cumsum())\n",
    "RSI_df[\"portfolio cash\"] = (initial_capital - (RSI_df[f'{ticker}'] * RSI_df[\"entry/exit position\"]).cumsum())"
   ]
  },
  {
   "cell_type": "code",
   "execution_count": 203,
   "metadata": {},
   "outputs": [],
   "source": [
    "# Get the total portfolio value by adding the cash amount by the portfolio holdings (or investments)\n",
    "SMA_df[\"portfolio total\"] = (SMA_df[\"portfolio cash\"] + SMA_df[\"portfolio holdings\"])\n",
    "EMA_df[\"portfolio total\"] = (EMA_df[\"portfolio cash\"] + EMA_df[\"portfolio holdings\"])\n",
    "BBD_df[\"portfolio total\"] = (BBD_df[\"portfolio cash\"] + BBD_df[\"portfolio holdings\"])\n",
    "RSI_df[\"portfolio total\"] = (RSI_df[\"portfolio cash\"] + RSI_df[\"portfolio holdings\"])"
   ]
  },
  {
   "cell_type": "code",
   "execution_count": 204,
   "metadata": {},
   "outputs": [],
   "source": [
    "# Calculate the portfolio daily returns\n",
    "SMA_df[\"portfolio daily returns\"] = SMA_df[\"portfolio total\"].pct_change()\n",
    "EMA_df[\"portfolio daily returns\"] = EMA_df[\"portfolio total\"].pct_change()\n",
    "BBD_df[\"portfolio daily returns\"] = BBD_df[\"portfolio total\"].pct_change()\n",
    "RSI_df[\"portfolio daily returns\"] = RSI_df[\"portfolio total\"].pct_change()"
   ]
  },
  {
   "cell_type": "code",
   "execution_count": 205,
   "metadata": {},
   "outputs": [],
   "source": [
    "# Calculate the cumulative returns\n",
    "SMA_df[\"portfolio cumulative returns\"] = (1 + SMA_df[\"portfolio daily returns\"]).cumprod() - 1\n",
    "EMA_df[\"portfolio cumulative returns\"] = (1 + EMA_df[\"portfolio daily returns\"]).cumprod() - 1\n",
    "BBD_df[\"portfolio cumulative returns\"] = (1 + BBD_df[\"portfolio daily returns\"]).cumprod() - 1\n",
    "RSI_df[\"portfolio cumulative returns\"] = (1 + RSI_df[\"portfolio daily returns\"]).cumprod() - 1"
   ]
  },
  {
   "cell_type": "code",
   "execution_count": 206,
   "metadata": {},
   "outputs": [],
   "source": [
    "# Tidy up\n",
    "SMA_df.dropna(inplace=True)\n",
    "EMA_df.dropna(inplace=True)\n",
    "BBD_df.dropna(inplace=True)\n",
    "RSI_df.dropna(inplace=True)"
   ]
  },
  {
   "cell_type": "markdown",
   "metadata": {},
   "source": [
    "---\n",
    "### Descriptive statistics\n",
    "*Evaluate backtesting*"
   ]
  },
  {
   "cell_type": "code",
   "execution_count": 207,
   "metadata": {},
   "outputs": [],
   "source": [
    "# Prepare DataFrame for metrics\n",
    "metrics = [\n",
    "    'Annual Return (%)',\n",
    "    'Cumulative Returns (%)',\n",
    "    'Annual Volatility (%)',\n",
    "    'Sharpe Ratio',\n",
    "    'Sortino Ratio',\n",
    "    'Max Drawdown (%)']\n",
    "\n",
    "columns = ['SMA', 'EMA', 'BBD', 'RSI', 'MACD']"
   ]
  },
  {
   "cell_type": "code",
   "execution_count": 208,
   "metadata": {},
   "outputs": [],
   "source": [
    "# Initialize the DataFrame with index set to evaluation metrics and columns\n",
    "eval_df = pd.DataFrame(index=metrics, columns=columns)\n",
    "eval_df.index.name = f'{ticker}' "
   ]
  },
  {
   "cell_type": "code",
   "execution_count": 209,
   "metadata": {},
   "outputs": [],
   "source": [
    "# Calculate cumulative return\n",
    "eval_df.loc['Cumulative Returns (%)', 'SMA'] = round(SMA_df['portfolio cumulative returns'][-1],2)\n",
    "eval_df.loc['Cumulative Returns (%)', 'EMA'] = round(EMA_df['portfolio cumulative returns'][-1],2)\n",
    "eval_df.loc['Cumulative Returns (%)', 'BBD'] = round(BBD_df['portfolio cumulative returns'][-1],2)\n",
    "eval_df.loc['Cumulative Returns (%)', 'RSI'] = round(BBD_df['portfolio cumulative returns'][-1],2)"
   ]
  },
  {
   "cell_type": "code",
   "execution_count": 210,
   "metadata": {},
   "outputs": [],
   "source": [
    "# Calculate annualized return\n",
    "eval_df.loc['Annual Return (%)', 'SMA'] = round((SMA_df['portfolio daily returns'].mean() * 252),2)\n",
    "eval_df.loc['Annual Return (%)', 'EMA'] = round((EMA_df['portfolio daily returns'].mean() * 252),2)\n",
    "eval_df.loc['Annual Return (%)', 'BBD'] = round((BBD_df['portfolio daily returns'].mean() * 252),2)\n",
    "eval_df.loc['Annual Return (%)', 'RSI'] = round((BBD_df['portfolio daily returns'].mean() * 252),2)"
   ]
  },
  {
   "cell_type": "code",
   "execution_count": 211,
   "metadata": {},
   "outputs": [],
   "source": [
    "# Calculate annual volatility\n",
    "eval_df.loc['Annual Volatility (%)', 'SMA'] = round(SMA_df['portfolio daily returns'].std() * np.sqrt(252),2)\n",
    "eval_df.loc['Annual Volatility (%)', 'EMA'] = round(EMA_df['portfolio daily returns'].std() * np.sqrt(252),2)\n",
    "eval_df.loc['Annual Volatility (%)', 'BBD'] = round(BBD_df['portfolio daily returns'].std() * np.sqrt(252),2)\n",
    "eval_df.loc['Annual Volatility (%)', 'RSI'] = round(BBD_df['portfolio daily returns'].std() * np.sqrt(252),2)"
   ]
  },
  {
   "cell_type": "code",
   "execution_count": 212,
   "metadata": {},
   "outputs": [],
   "source": [
    "# Calculate Sharpe Ratio\n",
    "eval_df.loc['Sharpe Ratio', 'SMA'] = round((SMA_df['portfolio daily returns'].mean() * 252) / (SMA_df['portfolio daily returns'].std() * np.sqrt(252)), 2)\n",
    "eval_df.loc['Sharpe Ratio', 'EMA'] = round((EMA_df['portfolio daily returns'].mean() * 252) / (EMA_df['portfolio daily returns'].std() * np.sqrt(252)), 2)\n",
    "eval_df.loc['Sharpe Ratio', 'BBD'] = round((BBD_df['portfolio daily returns'].mean() * 252) / (BBD_df['portfolio daily returns'].std() * np.sqrt(252)), 2)\n",
    "eval_df.loc['Sharpe Ratio', 'RSI'] = round((BBD_df['portfolio daily returns'].mean() * 252) / (BBD_df['portfolio daily returns'].std() * np.sqrt(252)), 2)"
   ]
  },
  {
   "cell_type": "code",
   "execution_count": 213,
   "metadata": {},
   "outputs": [],
   "source": [
    "# Calculate Sortino Ratio\n",
    "SMA_df.loc[:,'downside returns'] = 0\n",
    "EMA_df.loc[:,'downside returns'] = 0\n",
    "BBD_df.loc[:,'downside returns'] = 0\n",
    "RSI_df.loc[:,'downside returns'] = 0"
   ]
  },
  {
   "cell_type": "code",
   "execution_count": 214,
   "metadata": {},
   "outputs": [],
   "source": [
    "SMA_mask = SMA_df['portfolio daily returns'] < 0\n",
    "EMA_mask = EMA_df['portfolio daily returns'] < 0\n",
    "BBD_mask = BBD_df['portfolio daily returns'] < 0\n",
    "RSI_mask = RSI_df['portfolio daily returns'] < 0"
   ]
  },
  {
   "cell_type": "code",
   "execution_count": 215,
   "metadata": {},
   "outputs": [],
   "source": [
    "SMA_df.loc[SMA_mask, 'downside returns'] = SMA_df['portfolio daily returns']**2\n",
    "EMA_df.loc[EMA_mask, 'downside returns'] = EMA_df['portfolio daily returns']**2\n",
    "BBD_df.loc[BBD_mask, 'downside returns'] = BBD_df['portfolio daily returns']**2\n",
    "RSI_df.loc[RSI_mask, 'downside returns'] = RSI_df['portfolio daily returns']**2"
   ]
  },
  {
   "cell_type": "code",
   "execution_count": 216,
   "metadata": {},
   "outputs": [],
   "source": [
    "SMA_sortino = (SMA_df['portfolio daily returns'].mean() * 252) / (np.sqrt(SMA_df['downside returns'].mean()) * np.sqrt(252))\n",
    "EMA_sortino = (SMA_df['portfolio daily returns'].mean() * 252) / (np.sqrt(EMA_df['downside returns'].mean()) * np.sqrt(252))\n",
    "BBD_sortino = (SMA_df['portfolio daily returns'].mean() * 252) / (np.sqrt(BBD_df['downside returns'].mean()) * np.sqrt(252))\n",
    "RSI_sortino = (SMA_df['portfolio daily returns'].mean() * 252) / (np.sqrt(RSI_df['downside returns'].mean()) * np.sqrt(252))"
   ]
  },
  {
   "cell_type": "code",
   "execution_count": 217,
   "metadata": {},
   "outputs": [],
   "source": [
    "eval_df.loc['Sortino Ratio', 'SMA'] = round(SMA_sortino,2)\n",
    "eval_df.loc['Sortino Ratio', 'EMA'] = round(EMA_sortino,2)\n",
    "eval_df.loc['Sortino Ratio', 'BBD'] = round(BBD_sortino,2)\n",
    "eval_df.loc['Sortino Ratio', 'RSI'] = round(RSI_sortino,2)"
   ]
  },
  {
   "cell_type": "code",
   "execution_count": 218,
   "metadata": {},
   "outputs": [],
   "source": [
    "# Calculate max drawdown (%)\n",
    "eval_df.loc['Max Drawdown (%)', 'SMA'] = round(SMA_df['portfolio cumulative returns'].diff(short_window).min(),2)\n",
    "eval_df.loc['Max Drawdown (%)', 'EMA'] = round(EMA_df['portfolio cumulative returns'].diff(short_window).min(),2)\n",
    "eval_df.loc['Max Drawdown (%)', 'BBD'] = round(BBD_df['portfolio cumulative returns'].diff(short_window).min(),2)\n",
    "eval_df.loc['Max Drawdown (%)', 'RSI'] = round(RSI_df['portfolio cumulative returns'].diff(short_window).min(),2)"
   ]
  },
  {
   "cell_type": "code",
   "execution_count": 219,
   "metadata": {},
   "outputs": [
    {
     "data": {
      "text/html": [
       "<div>\n",
       "<style scoped>\n",
       "    .dataframe tbody tr th:only-of-type {\n",
       "        vertical-align: middle;\n",
       "    }\n",
       "\n",
       "    .dataframe tbody tr th {\n",
       "        vertical-align: top;\n",
       "    }\n",
       "\n",
       "    .dataframe thead th {\n",
       "        text-align: right;\n",
       "    }\n",
       "</style>\n",
       "<table border=\"1\" class=\"dataframe\">\n",
       "  <thead>\n",
       "    <tr style=\"text-align: right;\">\n",
       "      <th></th>\n",
       "      <th>SMA</th>\n",
       "      <th>EMA</th>\n",
       "      <th>BBD</th>\n",
       "      <th>RSI</th>\n",
       "      <th>MACD</th>\n",
       "    </tr>\n",
       "    <tr>\n",
       "      <th>SPY</th>\n",
       "      <th></th>\n",
       "      <th></th>\n",
       "      <th></th>\n",
       "      <th></th>\n",
       "      <th></th>\n",
       "    </tr>\n",
       "  </thead>\n",
       "  <tbody>\n",
       "    <tr>\n",
       "      <th>Annual Return (%)</th>\n",
       "      <td>0</td>\n",
       "      <td>0</td>\n",
       "      <td>-0</td>\n",
       "      <td>-0</td>\n",
       "      <td>NaN</td>\n",
       "    </tr>\n",
       "    <tr>\n",
       "      <th>Cumulative Returns (%)</th>\n",
       "      <td>0.03</td>\n",
       "      <td>0.02</td>\n",
       "      <td>-0</td>\n",
       "      <td>-0</td>\n",
       "      <td>NaN</td>\n",
       "    </tr>\n",
       "    <tr>\n",
       "      <th>Annual Volatility (%)</th>\n",
       "      <td>0.01</td>\n",
       "      <td>0</td>\n",
       "      <td>0</td>\n",
       "      <td>0</td>\n",
       "      <td>NaN</td>\n",
       "    </tr>\n",
       "    <tr>\n",
       "      <th>Sharpe Ratio</th>\n",
       "      <td>0.41</td>\n",
       "      <td>0.56</td>\n",
       "      <td>-0.12</td>\n",
       "      <td>-0.12</td>\n",
       "      <td>NaN</td>\n",
       "    </tr>\n",
       "    <tr>\n",
       "      <th>Sortino Ratio</th>\n",
       "      <td>0.54</td>\n",
       "      <td>0.99</td>\n",
       "      <td>1.19</td>\n",
       "      <td>3.7</td>\n",
       "      <td>NaN</td>\n",
       "    </tr>\n",
       "    <tr>\n",
       "      <th>Max Drawdown (%)</th>\n",
       "      <td>-0.02</td>\n",
       "      <td>-0.01</td>\n",
       "      <td>-0.01</td>\n",
       "      <td>-0</td>\n",
       "      <td>NaN</td>\n",
       "    </tr>\n",
       "  </tbody>\n",
       "</table>\n",
       "</div>"
      ],
      "text/plain": [
       "                         SMA   EMA   BBD   RSI MACD\n",
       "SPY                                                \n",
       "Annual Return (%)          0     0    -0    -0  NaN\n",
       "Cumulative Returns (%)  0.03  0.02    -0    -0  NaN\n",
       "Annual Volatility (%)   0.01     0     0     0  NaN\n",
       "Sharpe Ratio            0.41  0.56 -0.12 -0.12  NaN\n",
       "Sortino Ratio           0.54  0.99  1.19   3.7  NaN\n",
       "Max Drawdown (%)       -0.02 -0.01 -0.01    -0  NaN"
      ]
     },
     "execution_count": 219,
     "metadata": {},
     "output_type": "execute_result"
    }
   ],
   "source": [
    "eval_df"
   ]
  },
  {
   "cell_type": "markdown",
   "metadata": {},
   "source": [
    "## Deep learning\n",
    "---\n",
    "### Signals df"
   ]
  },
  {
   "cell_type": "code",
   "execution_count": 220,
   "metadata": {},
   "outputs": [],
   "source": [
    "# Combine signals\n",
    "signals_df = pd.concat([SMA_df['signal'],\n",
    "                        EMA_df['signal'],\n",
    "                        BBD_df['signal'],\n",
    "                        RSI_df['signal']\n",
    "                       ], axis=1)\n",
    "signals_df.columns = ['SMA', 'EMA', 'BBD', 'RSI']\n",
    "signals_df.index.name = f'{ticker}'\n",
    "signals_df.dropna(inplace=True)"
   ]
  },
  {
   "cell_type": "code",
   "execution_count": 221,
   "metadata": {},
   "outputs": [],
   "source": [
    "# Shift signals data by 1 in order to prime for predictions\n",
    "signals_df = signals_df.shift(1)"
   ]
  },
  {
   "cell_type": "code",
   "execution_count": 222,
   "metadata": {},
   "outputs": [
    {
     "data": {
      "text/html": [
       "<div>\n",
       "<style scoped>\n",
       "    .dataframe tbody tr th:only-of-type {\n",
       "        vertical-align: middle;\n",
       "    }\n",
       "\n",
       "    .dataframe tbody tr th {\n",
       "        vertical-align: top;\n",
       "    }\n",
       "\n",
       "    .dataframe thead th {\n",
       "        text-align: right;\n",
       "    }\n",
       "</style>\n",
       "<table border=\"1\" class=\"dataframe\">\n",
       "  <thead>\n",
       "    <tr style=\"text-align: right;\">\n",
       "      <th></th>\n",
       "      <th>SMA</th>\n",
       "      <th>EMA</th>\n",
       "      <th>BBD</th>\n",
       "      <th>RSI</th>\n",
       "      <th>ACTUAL</th>\n",
       "    </tr>\n",
       "    <tr>\n",
       "      <th>SPY</th>\n",
       "      <th></th>\n",
       "      <th></th>\n",
       "      <th></th>\n",
       "      <th></th>\n",
       "      <th></th>\n",
       "    </tr>\n",
       "  </thead>\n",
       "  <tbody>\n",
       "    <tr>\n",
       "      <th>2020-12-24</th>\n",
       "      <td>1.0</td>\n",
       "      <td>1.0</td>\n",
       "      <td>0.0</td>\n",
       "      <td>0.0</td>\n",
       "      <td>1.0</td>\n",
       "    </tr>\n",
       "    <tr>\n",
       "      <th>2020-12-28</th>\n",
       "      <td>1.0</td>\n",
       "      <td>1.0</td>\n",
       "      <td>0.0</td>\n",
       "      <td>0.0</td>\n",
       "      <td>1.0</td>\n",
       "    </tr>\n",
       "    <tr>\n",
       "      <th>2020-12-29</th>\n",
       "      <td>1.0</td>\n",
       "      <td>1.0</td>\n",
       "      <td>-1.0</td>\n",
       "      <td>0.0</td>\n",
       "      <td>1.0</td>\n",
       "    </tr>\n",
       "    <tr>\n",
       "      <th>2020-12-30</th>\n",
       "      <td>1.0</td>\n",
       "      <td>1.0</td>\n",
       "      <td>-1.0</td>\n",
       "      <td>0.0</td>\n",
       "      <td>1.0</td>\n",
       "    </tr>\n",
       "    <tr>\n",
       "      <th>2020-12-31</th>\n",
       "      <td>1.0</td>\n",
       "      <td>1.0</td>\n",
       "      <td>-1.0</td>\n",
       "      <td>0.0</td>\n",
       "      <td>1.0</td>\n",
       "    </tr>\n",
       "  </tbody>\n",
       "</table>\n",
       "</div>"
      ],
      "text/plain": [
       "            SMA  EMA  BBD  RSI  ACTUAL\n",
       "SPY                                   \n",
       "2020-12-24  1.0  1.0  0.0  0.0     1.0\n",
       "2020-12-28  1.0  1.0  0.0  0.0     1.0\n",
       "2020-12-29  1.0  1.0 -1.0  0.0     1.0\n",
       "2020-12-30  1.0  1.0 -1.0  0.0     1.0\n",
       "2020-12-31  1.0  1.0 -1.0  0.0     1.0"
      ]
     },
     "execution_count": 222,
     "metadata": {},
     "output_type": "execute_result"
    }
   ],
   "source": [
    "# Set dependant variable\n",
    "signals_df['daily return'] = ETF_df[f'{ticker}'].pct_change(short_window)\n",
    "signals_df['positive return'] = np.where(signals_df['daily return'] > 0, 1.0, 0.0)\n",
    "signals_df['negative return'] = np.where(signals_df['daily return'] < 0, -1.0, 0.0)\n",
    "signals_df['ACTUAL'] = signals_df['positive return'] + signals_df['negative return']\n",
    "signals_df.drop(columns=['positive return', 'negative return', 'daily return'], inplace=True)\n",
    "signals_df.dropna(inplace=True)\n",
    "signals_df.tail()"
   ]
  },
  {
   "cell_type": "code",
   "execution_count": 223,
   "metadata": {},
   "outputs": [],
   "source": [
    "# Construct training start and end dates"
   ]
  },
  {
   "cell_type": "markdown",
   "metadata": {},
   "source": [
    "---\n",
    "### Features df"
   ]
  },
  {
   "cell_type": "code",
   "execution_count": 224,
   "metadata": {},
   "outputs": [],
   "source": [
    "# Combine signals\n",
    "features_df = pd.concat([ETF_df[f'{ticker}'], \n",
    "                        SMA_df['SMA_long'], SMA_df['SMA_short'],\n",
    "                        EMA_df['EMA_long'], EMA_df['EMA_short'],\n",
    "                        BBD_df['BBD_mid'], BBD_df['BBD_std'], BBD_df['BBD_upper'], BBD_df['BBD_lower'],\n",
    "                        RSI_df['rsi']\n",
    "                       ], axis=1)"
   ]
  },
  {
   "cell_type": "code",
   "execution_count": 225,
   "metadata": {},
   "outputs": [
    {
     "data": {
      "text/html": [
       "<div>\n",
       "<style scoped>\n",
       "    .dataframe tbody tr th:only-of-type {\n",
       "        vertical-align: middle;\n",
       "    }\n",
       "\n",
       "    .dataframe tbody tr th {\n",
       "        vertical-align: top;\n",
       "    }\n",
       "\n",
       "    .dataframe thead th {\n",
       "        text-align: right;\n",
       "    }\n",
       "</style>\n",
       "<table border=\"1\" class=\"dataframe\">\n",
       "  <thead>\n",
       "    <tr style=\"text-align: right;\">\n",
       "      <th></th>\n",
       "      <th>SPY</th>\n",
       "      <th>SMA_long</th>\n",
       "      <th>SMA_short</th>\n",
       "      <th>EMA_long</th>\n",
       "      <th>EMA_short</th>\n",
       "      <th>BBD_mid</th>\n",
       "      <th>BBD_std</th>\n",
       "      <th>BBD_upper</th>\n",
       "      <th>BBD_lower</th>\n",
       "      <th>rsi</th>\n",
       "    </tr>\n",
       "  </thead>\n",
       "  <tbody>\n",
       "    <tr>\n",
       "      <th>2020-12-24</th>\n",
       "      <td>368.9899</td>\n",
       "      <td>320.438481</td>\n",
       "      <td>355.74239</td>\n",
       "      <td>305.589812</td>\n",
       "      <td>339.752754</td>\n",
       "      <td>367.568975</td>\n",
       "      <td>2.439630</td>\n",
       "      <td>370.008605</td>\n",
       "      <td>365.129345</td>\n",
       "      <td>59.445718</td>\n",
       "    </tr>\n",
       "    <tr>\n",
       "      <th>2020-12-28</th>\n",
       "      <td>372.1400</td>\n",
       "      <td>320.944531</td>\n",
       "      <td>356.23499</td>\n",
       "      <td>305.820074</td>\n",
       "      <td>340.198639</td>\n",
       "      <td>367.993475</td>\n",
       "      <td>2.460381</td>\n",
       "      <td>370.453856</td>\n",
       "      <td>365.533094</td>\n",
       "      <td>63.926525</td>\n",
       "    </tr>\n",
       "    <tr>\n",
       "      <th>2020-12-29</th>\n",
       "      <td>371.4800</td>\n",
       "      <td>321.604881</td>\n",
       "      <td>356.71959</td>\n",
       "      <td>306.047256</td>\n",
       "      <td>340.629299</td>\n",
       "      <td>368.467475</td>\n",
       "      <td>2.136852</td>\n",
       "      <td>370.604327</td>\n",
       "      <td>366.330623</td>\n",
       "      <td>62.371596</td>\n",
       "    </tr>\n",
       "    <tr>\n",
       "      <th>2020-12-30</th>\n",
       "      <td>371.9300</td>\n",
       "      <td>322.193581</td>\n",
       "      <td>357.31779</td>\n",
       "      <td>306.275208</td>\n",
       "      <td>341.060225</td>\n",
       "      <td>368.765475</td>\n",
       "      <td>2.185264</td>\n",
       "      <td>370.950739</td>\n",
       "      <td>366.580211</td>\n",
       "      <td>63.031849</td>\n",
       "    </tr>\n",
       "    <tr>\n",
       "      <th>2020-12-31</th>\n",
       "      <td>373.8500</td>\n",
       "      <td>322.857781</td>\n",
       "      <td>357.92799</td>\n",
       "      <td>306.509015</td>\n",
       "      <td>341.511651</td>\n",
       "      <td>369.119980</td>\n",
       "      <td>2.406666</td>\n",
       "      <td>371.526646</td>\n",
       "      <td>366.713314</td>\n",
       "      <td>65.790018</td>\n",
       "    </tr>\n",
       "  </tbody>\n",
       "</table>\n",
       "</div>"
      ],
      "text/plain": [
       "                 SPY    SMA_long  SMA_short    EMA_long   EMA_short  \\\n",
       "2020-12-24  368.9899  320.438481  355.74239  305.589812  339.752754   \n",
       "2020-12-28  372.1400  320.944531  356.23499  305.820074  340.198639   \n",
       "2020-12-29  371.4800  321.604881  356.71959  306.047256  340.629299   \n",
       "2020-12-30  371.9300  322.193581  357.31779  306.275208  341.060225   \n",
       "2020-12-31  373.8500  322.857781  357.92799  306.509015  341.511651   \n",
       "\n",
       "               BBD_mid   BBD_std   BBD_upper   BBD_lower        rsi  \n",
       "2020-12-24  367.568975  2.439630  370.008605  365.129345  59.445718  \n",
       "2020-12-28  367.993475  2.460381  370.453856  365.533094  63.926525  \n",
       "2020-12-29  368.467475  2.136852  370.604327  366.330623  62.371596  \n",
       "2020-12-30  368.765475  2.185264  370.950739  366.580211  63.031849  \n",
       "2020-12-31  369.119980  2.406666  371.526646  366.713314  65.790018  "
      ]
     },
     "execution_count": 225,
     "metadata": {},
     "output_type": "execute_result"
    }
   ],
   "source": [
    "features_df.dropna(inplace=True)\n",
    "features_df.tail()"
   ]
  },
  {
   "cell_type": "code",
   "execution_count": 226,
   "metadata": {},
   "outputs": [
    {
     "data": {
      "text/plain": [
       "0"
      ]
     },
     "execution_count": 226,
     "metadata": {},
     "output_type": "execute_result"
    }
   ],
   "source": [
    "# Looking for missing values\n",
    "features_df.isnull().sum().sum()"
   ]
  },
  {
   "cell_type": "raw",
   "metadata": {},
   "source": [
    "########## UPDATE MARKDOWN FILE #########\n",
    "#### Create the Features `X` and Target `y` Data\n",
    "\n",
    "Use the `window_data()` function bellow, to create the features set `X` and the target vector `y`. Define a window size of `30` days and use the column of the closing gold price (`USD (PM)`) for as feature and target column; this will allow your model to predict gold prices in USD."
   ]
  },
  {
   "cell_type": "code",
   "execution_count": 227,
   "metadata": {},
   "outputs": [
    {
     "data": {
      "text/html": [
       "<div>\n",
       "<style scoped>\n",
       "    .dataframe tbody tr th:only-of-type {\n",
       "        vertical-align: middle;\n",
       "    }\n",
       "\n",
       "    .dataframe tbody tr th {\n",
       "        vertical-align: top;\n",
       "    }\n",
       "\n",
       "    .dataframe thead th {\n",
       "        text-align: right;\n",
       "    }\n",
       "</style>\n",
       "<table border=\"1\" class=\"dataframe\">\n",
       "  <thead>\n",
       "    <tr style=\"text-align: right;\">\n",
       "      <th></th>\n",
       "      <th>index</th>\n",
       "      <th>SPY</th>\n",
       "      <th>SMA_long</th>\n",
       "      <th>SMA_short</th>\n",
       "      <th>EMA_long</th>\n",
       "      <th>EMA_short</th>\n",
       "      <th>BBD_mid</th>\n",
       "      <th>BBD_std</th>\n",
       "      <th>BBD_upper</th>\n",
       "      <th>BBD_lower</th>\n",
       "      <th>rsi</th>\n",
       "    </tr>\n",
       "  </thead>\n",
       "  <tbody>\n",
       "    <tr>\n",
       "      <th>2559</th>\n",
       "      <td>2020-12-24</td>\n",
       "      <td>368.9899</td>\n",
       "      <td>320.438481</td>\n",
       "      <td>355.74239</td>\n",
       "      <td>305.589812</td>\n",
       "      <td>339.752754</td>\n",
       "      <td>367.568975</td>\n",
       "      <td>2.439630</td>\n",
       "      <td>370.008605</td>\n",
       "      <td>365.129345</td>\n",
       "      <td>59.445718</td>\n",
       "    </tr>\n",
       "    <tr>\n",
       "      <th>2560</th>\n",
       "      <td>2020-12-28</td>\n",
       "      <td>372.1400</td>\n",
       "      <td>320.944531</td>\n",
       "      <td>356.23499</td>\n",
       "      <td>305.820074</td>\n",
       "      <td>340.198639</td>\n",
       "      <td>367.993475</td>\n",
       "      <td>2.460381</td>\n",
       "      <td>370.453856</td>\n",
       "      <td>365.533094</td>\n",
       "      <td>63.926525</td>\n",
       "    </tr>\n",
       "    <tr>\n",
       "      <th>2561</th>\n",
       "      <td>2020-12-29</td>\n",
       "      <td>371.4800</td>\n",
       "      <td>321.604881</td>\n",
       "      <td>356.71959</td>\n",
       "      <td>306.047256</td>\n",
       "      <td>340.629299</td>\n",
       "      <td>368.467475</td>\n",
       "      <td>2.136852</td>\n",
       "      <td>370.604327</td>\n",
       "      <td>366.330623</td>\n",
       "      <td>62.371596</td>\n",
       "    </tr>\n",
       "    <tr>\n",
       "      <th>2562</th>\n",
       "      <td>2020-12-30</td>\n",
       "      <td>371.9300</td>\n",
       "      <td>322.193581</td>\n",
       "      <td>357.31779</td>\n",
       "      <td>306.275208</td>\n",
       "      <td>341.060225</td>\n",
       "      <td>368.765475</td>\n",
       "      <td>2.185264</td>\n",
       "      <td>370.950739</td>\n",
       "      <td>366.580211</td>\n",
       "      <td>63.031849</td>\n",
       "    </tr>\n",
       "    <tr>\n",
       "      <th>2563</th>\n",
       "      <td>2020-12-31</td>\n",
       "      <td>373.8500</td>\n",
       "      <td>322.857781</td>\n",
       "      <td>357.92799</td>\n",
       "      <td>306.509015</td>\n",
       "      <td>341.511651</td>\n",
       "      <td>369.119980</td>\n",
       "      <td>2.406666</td>\n",
       "      <td>371.526646</td>\n",
       "      <td>366.713314</td>\n",
       "      <td>65.790018</td>\n",
       "    </tr>\n",
       "  </tbody>\n",
       "</table>\n",
       "</div>"
      ],
      "text/plain": [
       "           index       SPY    SMA_long  SMA_short    EMA_long   EMA_short  \\\n",
       "2559  2020-12-24  368.9899  320.438481  355.74239  305.589812  339.752754   \n",
       "2560  2020-12-28  372.1400  320.944531  356.23499  305.820074  340.198639   \n",
       "2561  2020-12-29  371.4800  321.604881  356.71959  306.047256  340.629299   \n",
       "2562  2020-12-30  371.9300  322.193581  357.31779  306.275208  341.060225   \n",
       "2563  2020-12-31  373.8500  322.857781  357.92799  306.509015  341.511651   \n",
       "\n",
       "         BBD_mid   BBD_std   BBD_upper   BBD_lower        rsi  \n",
       "2559  367.568975  2.439630  370.008605  365.129345  59.445718  \n",
       "2560  367.993475  2.460381  370.453856  365.533094  63.926525  \n",
       "2561  368.467475  2.136852  370.604327  366.330623  62.371596  \n",
       "2562  368.765475  2.185264  370.950739  366.580211  63.031849  \n",
       "2563  369.119980  2.406666  371.526646  366.713314  65.790018  "
      ]
     },
     "execution_count": 227,
     "metadata": {},
     "output_type": "execute_result"
    }
   ],
   "source": [
    "features_df.reset_index(inplace=True)\n",
    "features_df.tail()"
   ]
  },
  {
   "cell_type": "code",
   "execution_count": 228,
   "metadata": {},
   "outputs": [],
   "source": [
    "X = features_df.iloc[:, 2:].values\n",
    "y = features_df.iloc[:, 1].values\n"
   ]
  },
  {
   "cell_type": "code",
   "execution_count": 229,
   "metadata": {},
   "outputs": [],
   "source": [
    "from sklearn.preprocessing import StandardScaler\n",
    "\n",
    "scaler = StandardScaler().fit(X)\n",
    "X = scaler.transform(X)"
   ]
  },
  {
   "cell_type": "code",
   "execution_count": 230,
   "metadata": {},
   "outputs": [],
   "source": [
    "# Create a shallow, 1 hidden layer, neural network\n",
    "from tensorflow.keras.models import Sequential\n",
    "from tensorflow.keras.layers import Dense\n",
    "nn = Sequential()\n",
    "\n",
    "# Hidden layer\n",
    "nn.add(Dense(units=8, input_dim=9, activation=\"relu\"))\n",
    "\n",
    "# Output layer\n",
    "nn.add(Dense(units=2, activation=\"linear\"))"
   ]
  },
  {
   "cell_type": "code",
   "execution_count": 231,
   "metadata": {},
   "outputs": [
    {
     "name": "stdout",
     "output_type": "stream",
     "text": [
      "Epoch 1/100\n",
      "57/57 [==============================] - 0s 4ms/step - loss: 34063.2994 - mse: 34063.2994 - val_loss: 87666.4844 - val_mse: 87666.4844\n",
      "Epoch 2/100\n",
      "57/57 [==============================] - 0s 2ms/step - loss: 34388.1332 - mse: 34388.1332 - val_loss: 87157.5156 - val_mse: 87157.5156\n",
      "Epoch 3/100\n",
      "57/57 [==============================] - 0s 3ms/step - loss: 33684.5026 - mse: 33684.5026 - val_loss: 86632.3750 - val_mse: 86632.3750\n",
      "Epoch 4/100\n",
      "57/57 [==============================] - 0s 2ms/step - loss: 33683.8995 - mse: 33683.8995 - val_loss: 86010.9375 - val_mse: 86010.9375\n",
      "Epoch 5/100\n",
      "57/57 [==============================] - 0s 2ms/step - loss: 33924.8631 - mse: 33924.8631 - val_loss: 85228.0312 - val_mse: 85228.0312\n",
      "Epoch 6/100\n",
      "57/57 [==============================] - 0s 2ms/step - loss: 33433.6978 - mse: 33433.6978 - val_loss: 84310.1406 - val_mse: 84310.1406\n",
      "Epoch 7/100\n",
      "57/57 [==============================] - 0s 2ms/step - loss: 33963.2049 - mse: 33963.2049 - val_loss: 83265.7266 - val_mse: 83265.7266\n",
      "Epoch 8/100\n",
      "57/57 [==============================] - 0s 2ms/step - loss: 33498.6496 - mse: 33498.6496 - val_loss: 82106.7031 - val_mse: 82106.7031\n",
      "Epoch 9/100\n",
      "57/57 [==============================] - 0s 2ms/step - loss: 32669.1602 - mse: 32669.1602 - val_loss: 80807.2656 - val_mse: 80807.2656\n",
      "Epoch 10/100\n",
      "57/57 [==============================] - 0s 2ms/step - loss: 32859.1894 - mse: 32859.1894 - val_loss: 79431.0391 - val_mse: 79431.0391\n",
      "Epoch 11/100\n",
      "57/57 [==============================] - 0s 2ms/step - loss: 31745.0657 - mse: 31745.0657 - val_loss: 77905.8672 - val_mse: 77905.8672\n",
      "Epoch 12/100\n",
      "57/57 [==============================] - 0s 2ms/step - loss: 31284.1153 - mse: 31284.1153 - val_loss: 76316.1953 - val_mse: 76316.1953\n",
      "Epoch 13/100\n",
      "57/57 [==============================] - 0s 2ms/step - loss: 30535.4233 - mse: 30535.4233 - val_loss: 74620.3438 - val_mse: 74620.3438\n",
      "Epoch 14/100\n",
      "57/57 [==============================] - 0s 2ms/step - loss: 29560.6991 - mse: 29560.6991 - val_loss: 72824.1875 - val_mse: 72824.1875\n",
      "Epoch 15/100\n",
      "57/57 [==============================] - 0s 2ms/step - loss: 28534.0383 - mse: 28534.0383 - val_loss: 70989.8281 - val_mse: 70989.8281\n",
      "Epoch 16/100\n",
      "57/57 [==============================] - 0s 2ms/step - loss: 28459.4347 - mse: 28459.4347 - val_loss: 69048.4219 - val_mse: 69048.4219\n",
      "Epoch 17/100\n",
      "57/57 [==============================] - 0s 2ms/step - loss: 28303.8977 - mse: 28303.8977 - val_loss: 67021.9141 - val_mse: 67021.9141\n",
      "Epoch 18/100\n",
      "57/57 [==============================] - 0s 2ms/step - loss: 27216.8947 - mse: 27216.8947 - val_loss: 65065.0391 - val_mse: 65065.0391\n",
      "Epoch 19/100\n",
      "57/57 [==============================] - 0s 2ms/step - loss: 26010.3804 - mse: 26010.3804 - val_loss: 62999.9883 - val_mse: 62999.9883\n",
      "Epoch 20/100\n",
      "57/57 [==============================] - 0s 2ms/step - loss: 25424.9222 - mse: 25424.9222 - val_loss: 60846.4414 - val_mse: 60846.4414\n",
      "Epoch 21/100\n",
      "57/57 [==============================] - 0s 2ms/step - loss: 25858.6608 - mse: 25858.6608 - val_loss: 58736.8164 - val_mse: 58736.8164\n",
      "Epoch 22/100\n",
      "57/57 [==============================] - 0s 2ms/step - loss: 23810.8249 - mse: 23810.8249 - val_loss: 56710.4102 - val_mse: 56710.4102\n",
      "Epoch 23/100\n",
      "57/57 [==============================] - 0s 2ms/step - loss: 23303.4239 - mse: 23303.4239 - val_loss: 54599.8633 - val_mse: 54599.8633\n",
      "Epoch 24/100\n",
      "57/57 [==============================] - 0s 2ms/step - loss: 22379.6296 - mse: 22379.6296 - val_loss: 52453.9492 - val_mse: 52453.9492\n",
      "Epoch 25/100\n",
      "57/57 [==============================] - 0s 2ms/step - loss: 21977.3907 - mse: 21977.3907 - val_loss: 50248.8633 - val_mse: 50248.8633\n",
      "Epoch 26/100\n",
      "57/57 [==============================] - 0s 2ms/step - loss: 21066.6404 - mse: 21066.6404 - val_loss: 48056.5664 - val_mse: 48056.5664\n",
      "Epoch 27/100\n",
      "57/57 [==============================] - 0s 2ms/step - loss: 20869.6546 - mse: 20869.6546 - val_loss: 45945.3906 - val_mse: 45945.3906\n",
      "Epoch 28/100\n",
      "57/57 [==============================] - 0s 2ms/step - loss: 20491.2457 - mse: 20491.2457 - val_loss: 43774.3047 - val_mse: 43774.3047\n",
      "Epoch 29/100\n",
      "57/57 [==============================] - 0s 2ms/step - loss: 19735.5778 - mse: 19735.5778 - val_loss: 41597.6602 - val_mse: 41597.6602\n",
      "Epoch 30/100\n",
      "57/57 [==============================] - 0s 2ms/step - loss: 19078.7262 - mse: 19078.7262 - val_loss: 39439.7227 - val_mse: 39439.7227\n",
      "Epoch 31/100\n",
      "57/57 [==============================] - 0s 2ms/step - loss: 18140.3674 - mse: 18140.3674 - val_loss: 37415.1875 - val_mse: 37415.1875\n",
      "Epoch 32/100\n",
      "57/57 [==============================] - 0s 2ms/step - loss: 18280.9325 - mse: 18280.9325 - val_loss: 35258.3555 - val_mse: 35258.3555\n",
      "Epoch 33/100\n",
      "57/57 [==============================] - 0s 2ms/step - loss: 17495.8855 - mse: 17495.8855 - val_loss: 33226.2227 - val_mse: 33226.2227\n",
      "Epoch 34/100\n",
      "57/57 [==============================] - 0s 2ms/step - loss: 17115.7798 - mse: 17115.7798 - val_loss: 31344.1074 - val_mse: 31344.1074\n",
      "Epoch 35/100\n",
      "57/57 [==============================] - 0s 2ms/step - loss: 16395.6893 - mse: 16395.6893 - val_loss: 29454.3750 - val_mse: 29454.3750\n",
      "Epoch 36/100\n",
      "57/57 [==============================] - 0s 2ms/step - loss: 16533.3874 - mse: 16533.3874 - val_loss: 27609.5293 - val_mse: 27609.5293\n",
      "Epoch 37/100\n",
      "57/57 [==============================] - 0s 2ms/step - loss: 15721.4596 - mse: 15721.4596 - val_loss: 25885.8496 - val_mse: 25885.8496\n",
      "Epoch 38/100\n",
      "57/57 [==============================] - 0s 2ms/step - loss: 15289.1123 - mse: 15289.1123 - val_loss: 24138.3535 - val_mse: 24138.3535\n",
      "Epoch 39/100\n",
      "57/57 [==============================] - 0s 2ms/step - loss: 14955.2794 - mse: 14955.2794 - val_loss: 22511.2754 - val_mse: 22511.2754\n",
      "Epoch 40/100\n",
      "57/57 [==============================] - 0s 2ms/step - loss: 14652.6530 - mse: 14652.6530 - val_loss: 20816.5430 - val_mse: 20816.5430\n",
      "Epoch 41/100\n",
      "57/57 [==============================] - 0s 3ms/step - loss: 14601.4878 - mse: 14601.4878 - val_loss: 19226.6348 - val_mse: 19226.6348\n",
      "Epoch 42/100\n",
      "57/57 [==============================] - 0s 2ms/step - loss: 14430.3600 - mse: 14430.3600 - val_loss: 17684.8398 - val_mse: 17684.8398\n",
      "Epoch 43/100\n",
      "57/57 [==============================] - 0s 1ms/step - loss: 13394.2266 - mse: 13394.2266 - val_loss: 16304.7549 - val_mse: 16304.7549\n",
      "Epoch 44/100\n",
      "57/57 [==============================] - 0s 1ms/step - loss: 13218.0104 - mse: 13218.0104 - val_loss: 15006.5498 - val_mse: 15006.5498\n",
      "Epoch 45/100\n",
      "57/57 [==============================] - 0s 2ms/step - loss: 13072.6373 - mse: 13072.6373 - val_loss: 13765.7715 - val_mse: 13765.7715\n",
      "Epoch 46/100\n",
      "57/57 [==============================] - 0s 1ms/step - loss: 12855.7578 - mse: 12855.7578 - val_loss: 12650.7598 - val_mse: 12650.7598\n",
      "Epoch 47/100\n",
      "57/57 [==============================] - 0s 1ms/step - loss: 12576.9709 - mse: 12576.9709 - val_loss: 11561.5791 - val_mse: 11561.5791\n",
      "Epoch 48/100\n",
      "57/57 [==============================] - 0s 2ms/step - loss: 12378.7458 - mse: 12378.7458 - val_loss: 10552.7734 - val_mse: 10552.7734\n",
      "Epoch 49/100\n",
      "57/57 [==============================] - 0s 2ms/step - loss: 12286.4931 - mse: 12286.4931 - val_loss: 9684.2939 - val_mse: 9684.2939\n",
      "Epoch 50/100\n",
      "57/57 [==============================] - 0s 2ms/step - loss: 11974.8888 - mse: 11974.8888 - val_loss: 8848.2705 - val_mse: 8848.2705\n",
      "Epoch 51/100\n",
      "57/57 [==============================] - 0s 2ms/step - loss: 11526.0069 - mse: 11526.0069 - val_loss: 8119.3184 - val_mse: 8119.3184\n",
      "Epoch 52/100\n",
      "57/57 [==============================] - 0s 2ms/step - loss: 11009.1740 - mse: 11009.1740 - val_loss: 7452.1353 - val_mse: 7452.1353\n",
      "Epoch 53/100\n",
      "57/57 [==============================] - 0s 2ms/step - loss: 11221.1018 - mse: 11221.1018 - val_loss: 6872.7480 - val_mse: 6872.7480\n",
      "Epoch 54/100\n",
      "57/57 [==============================] - 0s 2ms/step - loss: 11213.0094 - mse: 11213.0094 - val_loss: 6408.3018 - val_mse: 6408.3018\n",
      "Epoch 55/100\n",
      "57/57 [==============================] - 0s 2ms/step - loss: 10735.1975 - mse: 10735.1975 - val_loss: 5988.0000 - val_mse: 5988.0000\n",
      "Epoch 56/100\n",
      "57/57 [==============================] - 0s 1ms/step - loss: 10474.3578 - mse: 10474.3578 - val_loss: 5629.8008 - val_mse: 5629.8008\n",
      "Epoch 57/100\n",
      "57/57 [==============================] - 0s 3ms/step - loss: 10119.1673 - mse: 10119.1673 - val_loss: 5346.8423 - val_mse: 5346.8423\n",
      "Epoch 58/100\n",
      "57/57 [==============================] - 0s 2ms/step - loss: 10131.8698 - mse: 10131.8698 - val_loss: 5134.9482 - val_mse: 5134.9482\n",
      "Epoch 59/100\n",
      "57/57 [==============================] - 0s 2ms/step - loss: 10372.3016 - mse: 10372.3016 - val_loss: 4989.0801 - val_mse: 4989.0801\n",
      "Epoch 60/100\n",
      "57/57 [==============================] - 0s 2ms/step - loss: 9972.6197 - mse: 9972.6197 - val_loss: 4898.9839 - val_mse: 4898.9839\n",
      "Epoch 61/100\n",
      "57/57 [==============================] - 0s 1ms/step - loss: 9500.6439 - mse: 9500.6439 - val_loss: 4871.7969 - val_mse: 4871.7969\n",
      "Epoch 62/100\n",
      "57/57 [==============================] - 0s 2ms/step - loss: 9211.5976 - mse: 9211.5976 - val_loss: 4907.1089 - val_mse: 4907.1089\n",
      "Epoch 63/100\n",
      "57/57 [==============================] - 0s 2ms/step - loss: 9295.6273 - mse: 9295.6273 - val_loss: 4994.6689 - val_mse: 4994.6689\n",
      "Epoch 64/100\n",
      "57/57 [==============================] - 0s 1ms/step - loss: 8849.3649 - mse: 8849.3649 - val_loss: 5133.7520 - val_mse: 5133.7520\n",
      "Epoch 65/100\n",
      "57/57 [==============================] - 0s 1ms/step - loss: 9005.0567 - mse: 9005.0567 - val_loss: 5312.2822 - val_mse: 5312.2822\n",
      "Epoch 66/100\n",
      "57/57 [==============================] - 0s 2ms/step - loss: 8594.8633 - mse: 8594.8633 - val_loss: 5519.8306 - val_mse: 5519.8306\n",
      "Epoch 67/100\n",
      "57/57 [==============================] - 0s 2ms/step - loss: 8452.0338 - mse: 8452.0338 - val_loss: 5749.0830 - val_mse: 5749.0830\n",
      "Epoch 68/100\n",
      "57/57 [==============================] - 0s 2ms/step - loss: 8130.5829 - mse: 8130.5829 - val_loss: 6004.5151 - val_mse: 6004.5151\n",
      "Epoch 69/100\n",
      "57/57 [==============================] - 0s 2ms/step - loss: 7863.1921 - mse: 7863.1921 - val_loss: 6295.3638 - val_mse: 6295.3638\n",
      "Epoch 70/100\n",
      "57/57 [==============================] - 0s 2ms/step - loss: 7867.3542 - mse: 7867.3542 - val_loss: 6585.2188 - val_mse: 6585.2188\n",
      "Epoch 71/100\n",
      "57/57 [==============================] - 0s 2ms/step - loss: 7968.1924 - mse: 7968.1924 - val_loss: 6866.5938 - val_mse: 6866.5938\n",
      "Epoch 72/100\n",
      "57/57 [==============================] - 0s 2ms/step - loss: 7195.8556 - mse: 7195.8556 - val_loss: 7178.1318 - val_mse: 7178.1318\n",
      "Epoch 73/100\n",
      "57/57 [==============================] - 0s 2ms/step - loss: 7371.9947 - mse: 7371.9947 - val_loss: 7438.9385 - val_mse: 7438.9385\n",
      "Epoch 74/100\n",
      "57/57 [==============================] - 0s 2ms/step - loss: 7200.5321 - mse: 7200.5321 - val_loss: 7708.0962 - val_mse: 7708.0962\n",
      "Epoch 75/100\n",
      "57/57 [==============================] - 0s 2ms/step - loss: 7341.4091 - mse: 7341.4091 - val_loss: 7966.8618 - val_mse: 7966.8618\n",
      "Epoch 76/100\n",
      "57/57 [==============================] - 0s 2ms/step - loss: 7107.3816 - mse: 7107.3816 - val_loss: 8227.4004 - val_mse: 8227.4004\n",
      "Epoch 77/100\n",
      "57/57 [==============================] - 0s 2ms/step - loss: 6710.4648 - mse: 6710.4648 - val_loss: 8412.1846 - val_mse: 8412.1846\n",
      "Epoch 78/100\n",
      "57/57 [==============================] - 0s 2ms/step - loss: 6248.3705 - mse: 6248.3705 - val_loss: 8665.7842 - val_mse: 8665.7842\n",
      "Epoch 79/100\n",
      "57/57 [==============================] - 0s 2ms/step - loss: 6634.8429 - mse: 6634.8429 - val_loss: 8806.7275 - val_mse: 8806.7275\n",
      "Epoch 80/100\n",
      "57/57 [==============================] - 0s 2ms/step - loss: 6276.3497 - mse: 6276.3497 - val_loss: 8895.7100 - val_mse: 8895.7100\n",
      "Epoch 81/100\n",
      "57/57 [==============================] - 0s 2ms/step - loss: 6067.6841 - mse: 6067.6841 - val_loss: 8988.8359 - val_mse: 8988.8359\n",
      "Epoch 82/100\n",
      "57/57 [==============================] - 0s 2ms/step - loss: 6031.9093 - mse: 6031.9093 - val_loss: 9010.4688 - val_mse: 9010.4688\n",
      "Epoch 83/100\n",
      "57/57 [==============================] - 0s 2ms/step - loss: 5708.5349 - mse: 5708.5349 - val_loss: 8965.4336 - val_mse: 8965.4336\n",
      "Epoch 84/100\n",
      "57/57 [==============================] - 0s 2ms/step - loss: 5761.3533 - mse: 5761.3533 - val_loss: 8964.5420 - val_mse: 8964.5420\n",
      "Epoch 85/100\n",
      "57/57 [==============================] - 0s 2ms/step - loss: 5682.2095 - mse: 5682.2095 - val_loss: 8914.8398 - val_mse: 8914.8398\n",
      "Epoch 86/100\n",
      "57/57 [==============================] - 0s 2ms/step - loss: 5394.5440 - mse: 5394.5440 - val_loss: 8782.9346 - val_mse: 8782.9346\n",
      "Epoch 87/100\n",
      "57/57 [==============================] - 0s 2ms/step - loss: 5293.2114 - mse: 5293.2114 - val_loss: 8618.0361 - val_mse: 8618.0361\n",
      "Epoch 88/100\n",
      "57/57 [==============================] - 0s 2ms/step - loss: 4973.5264 - mse: 4973.5264 - val_loss: 8448.4336 - val_mse: 8448.4336\n",
      "Epoch 89/100\n",
      "57/57 [==============================] - 0s 2ms/step - loss: 4829.1916 - mse: 4829.1916 - val_loss: 8270.6826 - val_mse: 8270.6826\n",
      "Epoch 90/100\n",
      "57/57 [==============================] - 0s 2ms/step - loss: 4574.1270 - mse: 4574.1270 - val_loss: 8081.5630 - val_mse: 8081.5630\n",
      "Epoch 91/100\n",
      "57/57 [==============================] - 0s 1ms/step - loss: 4633.6015 - mse: 4633.6015 - val_loss: 7907.8154 - val_mse: 7907.8154\n",
      "Epoch 92/100\n",
      "57/57 [==============================] - 0s 2ms/step - loss: 4449.0773 - mse: 4449.0773 - val_loss: 7738.9365 - val_mse: 7738.9365\n",
      "Epoch 93/100\n",
      "57/57 [==============================] - 0s 2ms/step - loss: 4311.7005 - mse: 4311.7005 - val_loss: 7577.0791 - val_mse: 7577.0791\n",
      "Epoch 94/100\n",
      "57/57 [==============================] - 0s 2ms/step - loss: 4104.7326 - mse: 4104.7326 - val_loss: 7442.8623 - val_mse: 7442.8623\n",
      "Epoch 95/100\n",
      "57/57 [==============================] - 0s 2ms/step - loss: 3959.5787 - mse: 3959.5787 - val_loss: 7343.5762 - val_mse: 7343.5762\n",
      "Epoch 96/100\n",
      "57/57 [==============================] - 0s 2ms/step - loss: 4191.8770 - mse: 4191.8770 - val_loss: 7276.7979 - val_mse: 7276.7979\n",
      "Epoch 97/100\n",
      "57/57 [==============================] - 0s 2ms/step - loss: 3525.3074 - mse: 3525.3074 - val_loss: 7233.2329 - val_mse: 7233.2329\n",
      "Epoch 98/100\n",
      "57/57 [==============================] - 0s 2ms/step - loss: 3649.5472 - mse: 3649.5472 - val_loss: 7231.2979 - val_mse: 7231.2979\n",
      "Epoch 99/100\n",
      "57/57 [==============================] - 0s 2ms/step - loss: 3471.0726 - mse: 3471.0726 - val_loss: 7269.5723 - val_mse: 7269.5723\n",
      "Epoch 100/100\n",
      "57/57 [==============================] - 0s 2ms/step - loss: 3320.1241 - mse: 3320.1241 - val_loss: 7353.8130 - val_mse: 7353.8130\n"
     ]
    }
   ],
   "source": [
    "# Compile the model\n",
    "nn.compile(loss=\"mean_squared_error\", optimizer=\"adam\", metrics=[\"mse\"])\n",
    "\n",
    "# Fit the model\n",
    "model_1 = nn.fit(X, y, validation_split=0.3, epochs=100)"
   ]
  },
  {
   "cell_type": "code",
   "execution_count": 232,
   "metadata": {},
   "outputs": [],
   "source": [
    "# Define the model - deep neural network with two layers\n",
    "nn = Sequential()\n",
    "\n",
    "# First hidden layer\n",
    "nn.add(Dense(units=8, input_dim=9, activation=\"relu\"))\n",
    "\n",
    "# Second hidden layer\n",
    "nn.add(Dense(units=8, activation=\"relu\"))\n",
    "\n",
    "# Output layer\n",
    "nn.add(Dense(units=2, activation=\"linear\"))"
   ]
  },
  {
   "cell_type": "code",
   "execution_count": 233,
   "metadata": {},
   "outputs": [],
   "source": [
    "# Compile the model\n",
    "nn.compile(loss=\"mean_squared_error\", optimizer=\"adam\", metrics=[\"mse\"])\n",
    "\n",
    "# Fit the model\n",
    "model_2 = nn.fit(X, y, validation_split=0.3, epochs=100, verbose=0)"
   ]
  },
  {
   "cell_type": "code",
   "execution_count": 234,
   "metadata": {},
   "outputs": [
    {
     "data": {
      "image/png": "[encoded data removed]",
      "text/plain": [
       "<Figure size 432x288 with 1 Axes>"
      ]
     },
     "metadata": {
      "needs_background": "light"
     },
     "output_type": "display_data"
    }
   ],
   "source": [
    "# Plot the loss function of the training results for the two models\n",
    "plt.plot(model_1.history[\"loss\"])\n",
    "plt.plot(model_2.history[\"loss\"])\n",
    "plt.title(\"loss_function - Training - 1 hidden layer Vs. 2 hinden layer\")\n",
    "plt.legend([\"1 hidden layer\", \"2 hidden layers\"])\n",
    "plt.show()"
   ]
  },
  {
   "cell_type": "code",
   "execution_count": 235,
   "metadata": {},
   "outputs": [
    {
     "data": {
      "image/png": "[encoded data removed]",
      "text/plain": [
       "<Figure size 432x288 with 1 Axes>"
      ]
     },
     "metadata": {
      "needs_background": "light"
     },
     "output_type": "display_data"
    }
   ],
   "source": [
    "# Plot train vs test for shallow net\n",
    "plt.plot(model_1.history[\"loss\"])\n",
    "plt.plot(model_1.history[\"val_loss\"])\n",
    "plt.title(\"loss_function - 1 hidden layer - Train Vs. Test\")\n",
    "plt.legend([\"train\", \"test\"])\n",
    "plt.show()"
   ]
  },
  {
   "cell_type": "code",
   "execution_count": 236,
   "metadata": {},
   "outputs": [
    {
     "data": {
      "image/png": "[encoded data removed]",
      "text/plain": [
       "<Figure size 432x288 with 1 Axes>"
      ]
     },
     "metadata": {
      "needs_background": "light"
     },
     "output_type": "display_data"
    }
   ],
   "source": [
    "# Plot train vs test for deep net\n",
    "plt.plot(model_2.history[\"loss\"])\n",
    "plt.plot(model_2.history[\"val_loss\"])\n",
    "plt.title(\"loss_function - 2 hidden layers - Train Vs. Test\")\n",
    "plt.legend([\"train\", \"test\"])\n",
    "plt.show()"
   ]
  },
  {
   "cell_type": "code",
   "execution_count": 237,
   "metadata": {},
   "outputs": [
    {
     "ename": "AttributeError",
     "evalue": "'History' object has no attribute 'summary'",
     "output_type": "error",
     "traceback": [
      "\u001b[1;31m---------------------------------------------------------------------------\u001b[0m",
      "\u001b[1;31mAttributeError\u001b[0m                            Traceback (most recent call last)",
      "\u001b[1;32m<ipython-input-237-b31d93c60381>\u001b[0m in \u001b[0;36m<module>\u001b[1;34m\u001b[0m\n\u001b[0;32m      1\u001b[0m \u001b[1;31m# Show the model summaries\u001b[0m\u001b[1;33m\u001b[0m\u001b[1;33m\u001b[0m\u001b[1;33m\u001b[0m\u001b[0m\n\u001b[1;32m----> 2\u001b[1;33m \u001b[0mmodel_1\u001b[0m\u001b[1;33m.\u001b[0m\u001b[0msummary\u001b[0m\u001b[1;33m(\u001b[0m\u001b[1;33m)\u001b[0m\u001b[1;33m\u001b[0m\u001b[1;33m\u001b[0m\u001b[0m\n\u001b[0m",
      "\u001b[1;31mAttributeError\u001b[0m: 'History' object has no attribute 'summary'"
     ]
    }
   ],
   "source": [
    "# Show the model summaries\n",
    "model_1.summary()"
   ]
  },
  {
   "cell_type": "markdown",
   "metadata": {},
   "source": [
    "#### Split Data Between Training and Testing Sets\n",
    "\n",
    "To avoid the dataset being randomized, manually create the training and testing sets using array slicing. Use 70% of the data for training and the remainder for testing."
   ]
  },
  {
   "cell_type": "code",
   "execution_count": 238,
   "metadata": {},
   "outputs": [],
   "source": [
    "# Manually splitting the data\n",
    "split = int(0.7 * len(X))\n",
    "\n",
    "X_train = X[: split]\n",
    "X_test = X[split:]\n",
    "\n",
    "y_train = y[: split]\n",
    "y_test = y[split:]"
   ]
  },
  {
   "cell_type": "markdown",
   "metadata": {},
   "source": [
    "#### Scale Data with `MinMaxScaler`\n",
    "\n",
    "Before training the RNN LSTM model, use the `MinMaxScaler` from `sklearn` to scale the training and testing data between `0` and `1`.\n",
    "\n",
    "**Note:** You need to scale both features and target sets."
   ]
  },
  {
   "cell_type": "code",
   "execution_count": 240,
   "metadata": {},
   "outputs": [
    {
     "ename": "ValueError",
     "evalue": "Expected 2D array, got 1D array instead:\narray=[118.11 118.38 118.68 ... 371.48 371.93 373.85].\nReshape your data either using array.reshape(-1, 1) if your data has a single feature or array.reshape(1, -1) if it contains a single sample.",
     "output_type": "error",
     "traceback": [
      "\u001b[1;31m---------------------------------------------------------------------------\u001b[0m",
      "\u001b[1;31mValueError\u001b[0m                                Traceback (most recent call last)",
      "\u001b[1;32m<ipython-input-240-24c3ed5ef865>\u001b[0m in \u001b[0;36m<module>\u001b[1;34m\u001b[0m\n\u001b[0;32m     14\u001b[0m \u001b[1;31m# Fit the MinMaxScaler object with the target data Y\u001b[0m\u001b[1;33m\u001b[0m\u001b[1;33m\u001b[0m\u001b[1;33m\u001b[0m\u001b[0m\n\u001b[0;32m     15\u001b[0m \u001b[0my\u001b[0m\u001b[1;33m.\u001b[0m\u001b[0mreshape\u001b[0m\u001b[1;33m(\u001b[0m\u001b[1;36m1\u001b[0m\u001b[1;33m,\u001b[0m \u001b[1;33m-\u001b[0m\u001b[1;36m1\u001b[0m\u001b[1;33m)\u001b[0m\u001b[1;33m\u001b[0m\u001b[1;33m\u001b[0m\u001b[0m\n\u001b[1;32m---> 16\u001b[1;33m \u001b[0mscaler\u001b[0m\u001b[1;33m.\u001b[0m\u001b[0mfit\u001b[0m\u001b[1;33m(\u001b[0m\u001b[0my\u001b[0m\u001b[1;33m)\u001b[0m\u001b[1;33m\u001b[0m\u001b[1;33m\u001b[0m\u001b[0m\n\u001b[0m\u001b[0;32m     17\u001b[0m \u001b[1;33m\u001b[0m\u001b[0m\n\u001b[0;32m     18\u001b[0m \u001b[1;31m# Scale the target training and testing sets\u001b[0m\u001b[1;33m\u001b[0m\u001b[1;33m\u001b[0m\u001b[1;33m\u001b[0m\u001b[0m\n",
      "\u001b[1;32m~\\anaconda3\\envs\\algotrading\\lib\\site-packages\\sklearn\\preprocessing\\_data.py\u001b[0m in \u001b[0;36mfit\u001b[1;34m(self, X, y)\u001b[0m\n\u001b[0;32m    334\u001b[0m         \u001b[1;31m# Reset internal state before fitting\u001b[0m\u001b[1;33m\u001b[0m\u001b[1;33m\u001b[0m\u001b[1;33m\u001b[0m\u001b[0m\n\u001b[0;32m    335\u001b[0m         \u001b[0mself\u001b[0m\u001b[1;33m.\u001b[0m\u001b[0m_reset\u001b[0m\u001b[1;33m(\u001b[0m\u001b[1;33m)\u001b[0m\u001b[1;33m\u001b[0m\u001b[1;33m\u001b[0m\u001b[0m\n\u001b[1;32m--> 336\u001b[1;33m         \u001b[1;32mreturn\u001b[0m \u001b[0mself\u001b[0m\u001b[1;33m.\u001b[0m\u001b[0mpartial_fit\u001b[0m\u001b[1;33m(\u001b[0m\u001b[0mX\u001b[0m\u001b[1;33m,\u001b[0m \u001b[0my\u001b[0m\u001b[1;33m)\u001b[0m\u001b[1;33m\u001b[0m\u001b[1;33m\u001b[0m\u001b[0m\n\u001b[0m\u001b[0;32m    337\u001b[0m \u001b[1;33m\u001b[0m\u001b[0m\n\u001b[0;32m    338\u001b[0m     \u001b[1;32mdef\u001b[0m \u001b[0mpartial_fit\u001b[0m\u001b[1;33m(\u001b[0m\u001b[0mself\u001b[0m\u001b[1;33m,\u001b[0m \u001b[0mX\u001b[0m\u001b[1;33m,\u001b[0m \u001b[0my\u001b[0m\u001b[1;33m=\u001b[0m\u001b[1;32mNone\u001b[0m\u001b[1;33m)\u001b[0m\u001b[1;33m:\u001b[0m\u001b[1;33m\u001b[0m\u001b[1;33m\u001b[0m\u001b[0m\n",
      "\u001b[1;32m~\\anaconda3\\envs\\algotrading\\lib\\site-packages\\sklearn\\preprocessing\\_data.py\u001b[0m in \u001b[0;36mpartial_fit\u001b[1;34m(self, X, y)\u001b[0m\n\u001b[0;32m    369\u001b[0m         X = self._validate_data(X, reset=first_pass,\n\u001b[0;32m    370\u001b[0m                                 \u001b[0mestimator\u001b[0m\u001b[1;33m=\u001b[0m\u001b[0mself\u001b[0m\u001b[1;33m,\u001b[0m \u001b[0mdtype\u001b[0m\u001b[1;33m=\u001b[0m\u001b[0mFLOAT_DTYPES\u001b[0m\u001b[1;33m,\u001b[0m\u001b[1;33m\u001b[0m\u001b[1;33m\u001b[0m\u001b[0m\n\u001b[1;32m--> 371\u001b[1;33m                                 force_all_finite=\"allow-nan\")\n\u001b[0m\u001b[0;32m    372\u001b[0m \u001b[1;33m\u001b[0m\u001b[0m\n\u001b[0;32m    373\u001b[0m         \u001b[0mdata_min\u001b[0m \u001b[1;33m=\u001b[0m \u001b[0mnp\u001b[0m\u001b[1;33m.\u001b[0m\u001b[0mnanmin\u001b[0m\u001b[1;33m(\u001b[0m\u001b[0mX\u001b[0m\u001b[1;33m,\u001b[0m \u001b[0maxis\u001b[0m\u001b[1;33m=\u001b[0m\u001b[1;36m0\u001b[0m\u001b[1;33m)\u001b[0m\u001b[1;33m\u001b[0m\u001b[1;33m\u001b[0m\u001b[0m\n",
      "\u001b[1;32m~\\anaconda3\\envs\\algotrading\\lib\\site-packages\\sklearn\\base.py\u001b[0m in \u001b[0;36m_validate_data\u001b[1;34m(self, X, y, reset, validate_separately, **check_params)\u001b[0m\n\u001b[0;32m    418\u001b[0m                     \u001b[1;34mf\"requires y to be passed, but the target y is None.\"\u001b[0m\u001b[1;33m\u001b[0m\u001b[1;33m\u001b[0m\u001b[0m\n\u001b[0;32m    419\u001b[0m                 )\n\u001b[1;32m--> 420\u001b[1;33m             \u001b[0mX\u001b[0m \u001b[1;33m=\u001b[0m \u001b[0mcheck_array\u001b[0m\u001b[1;33m(\u001b[0m\u001b[0mX\u001b[0m\u001b[1;33m,\u001b[0m \u001b[1;33m**\u001b[0m\u001b[0mcheck_params\u001b[0m\u001b[1;33m)\u001b[0m\u001b[1;33m\u001b[0m\u001b[1;33m\u001b[0m\u001b[0m\n\u001b[0m\u001b[0;32m    421\u001b[0m             \u001b[0mout\u001b[0m \u001b[1;33m=\u001b[0m \u001b[0mX\u001b[0m\u001b[1;33m\u001b[0m\u001b[1;33m\u001b[0m\u001b[0m\n\u001b[0;32m    422\u001b[0m         \u001b[1;32melse\u001b[0m\u001b[1;33m:\u001b[0m\u001b[1;33m\u001b[0m\u001b[1;33m\u001b[0m\u001b[0m\n",
      "\u001b[1;32m~\\anaconda3\\envs\\algotrading\\lib\\site-packages\\sklearn\\utils\\validation.py\u001b[0m in \u001b[0;36minner_f\u001b[1;34m(*args, **kwargs)\u001b[0m\n\u001b[0;32m     70\u001b[0m                           FutureWarning)\n\u001b[0;32m     71\u001b[0m         \u001b[0mkwargs\u001b[0m\u001b[1;33m.\u001b[0m\u001b[0mupdate\u001b[0m\u001b[1;33m(\u001b[0m\u001b[1;33m{\u001b[0m\u001b[0mk\u001b[0m\u001b[1;33m:\u001b[0m \u001b[0marg\u001b[0m \u001b[1;32mfor\u001b[0m \u001b[0mk\u001b[0m\u001b[1;33m,\u001b[0m \u001b[0marg\u001b[0m \u001b[1;32min\u001b[0m \u001b[0mzip\u001b[0m\u001b[1;33m(\u001b[0m\u001b[0msig\u001b[0m\u001b[1;33m.\u001b[0m\u001b[0mparameters\u001b[0m\u001b[1;33m,\u001b[0m \u001b[0margs\u001b[0m\u001b[1;33m)\u001b[0m\u001b[1;33m}\u001b[0m\u001b[1;33m)\u001b[0m\u001b[1;33m\u001b[0m\u001b[1;33m\u001b[0m\u001b[0m\n\u001b[1;32m---> 72\u001b[1;33m         \u001b[1;32mreturn\u001b[0m \u001b[0mf\u001b[0m\u001b[1;33m(\u001b[0m\u001b[1;33m**\u001b[0m\u001b[0mkwargs\u001b[0m\u001b[1;33m)\u001b[0m\u001b[1;33m\u001b[0m\u001b[1;33m\u001b[0m\u001b[0m\n\u001b[0m\u001b[0;32m     73\u001b[0m     \u001b[1;32mreturn\u001b[0m \u001b[0minner_f\u001b[0m\u001b[1;33m\u001b[0m\u001b[1;33m\u001b[0m\u001b[0m\n\u001b[0;32m     74\u001b[0m \u001b[1;33m\u001b[0m\u001b[0m\n",
      "\u001b[1;32m~\\anaconda3\\envs\\algotrading\\lib\\site-packages\\sklearn\\utils\\validation.py\u001b[0m in \u001b[0;36mcheck_array\u001b[1;34m(array, accept_sparse, accept_large_sparse, dtype, order, copy, force_all_finite, ensure_2d, allow_nd, ensure_min_samples, ensure_min_features, estimator)\u001b[0m\n\u001b[0;32m    621\u001b[0m                     \u001b[1;34m\"Reshape your data either using array.reshape(-1, 1) if \"\u001b[0m\u001b[1;33m\u001b[0m\u001b[1;33m\u001b[0m\u001b[0m\n\u001b[0;32m    622\u001b[0m                     \u001b[1;34m\"your data has a single feature or array.reshape(1, -1) \"\u001b[0m\u001b[1;33m\u001b[0m\u001b[1;33m\u001b[0m\u001b[0m\n\u001b[1;32m--> 623\u001b[1;33m                     \"if it contains a single sample.\".format(array))\n\u001b[0m\u001b[0;32m    624\u001b[0m \u001b[1;33m\u001b[0m\u001b[0m\n\u001b[0;32m    625\u001b[0m         \u001b[1;31m# in the future np.flexible dtypes will be handled like object dtypes\u001b[0m\u001b[1;33m\u001b[0m\u001b[1;33m\u001b[0m\u001b[1;33m\u001b[0m\u001b[0m\n",
      "\u001b[1;31mValueError\u001b[0m: Expected 2D array, got 1D array instead:\narray=[118.11 118.38 118.68 ... 371.48 371.93 373.85].\nReshape your data either using array.reshape(-1, 1) if your data has a single feature or array.reshape(1, -1) if it contains a single sample."
     ]
    }
   ],
   "source": [
    "# Importing the MinMaxScaler from sklearn\n",
    "from sklearn.preprocessing import MinMaxScaler\n",
    "\n",
    "# Create a MinMaxScaler object\n",
    "scaler = MinMaxScaler()\n",
    "\n",
    "# Fit the MinMaxScaler object with the features data X\n",
    "scaler.fit(X)\n",
    "\n",
    "# Scale the features training and testing sets\n",
    "X_train = scaler.transform(X_train)\n",
    "X_test = scaler.transform(X_test)\n",
    "\n",
    "# Fit the MinMaxScaler object with the target data Y\n",
    "y.reshape(1, -1)\n",
    "scaler.fit(y)\n",
    "\n",
    "# Scale the target training and testing sets\n",
    "y_train = scaler.transform(y_train)\n",
    "y_test = scaler.transform(y_test)"
   ]
  },
  {
   "cell_type": "markdown",
   "metadata": {},
   "source": [
    "#### Reshape Features Data for the LSTM Model\n",
    "\n",
    "The LSTM API from Keras needs to receive the features data as a _vertical vector_, so that reshape the `X` data in the form `reshape((X_train.shape[0], X_train.shape[1], 1))`. Both sets, training, and testing should be reshaped."
   ]
  },
  {
   "cell_type": "code",
   "execution_count": null,
   "metadata": {},
   "outputs": [],
   "source": [
    "# Reshape the features data\n",
    "X_train = X_train.reshape((X_train.shape[0], X_train.shape[1], 1))\n",
    "X_test = X_test.reshape((X_test.shape[0], X_test.shape[1], 1))\n",
    "\n",
    "# Print some sample data after reshaping the datasets\n",
    "print (f\"X_train sample values:\\n{X_train[:3]} \\n\")\n",
    "print (f\"X_test sample values:\\n{X_test[:3]}\")"
   ]
  },
  {
   "cell_type": "markdown",
   "metadata": {},
   "source": [
    "---\n",
    "\n",
    "### Build and Train the LSTM RNN\n",
    "\n",
    "In this section, you will design a custom LSTM RNN in Keras and fit (train) it using the training data we defined.\n",
    "\n",
    "You will need to:\n",
    "\n",
    "1. Define the model architecture in Keras.\n",
    "\n",
    "2. Compile the model.\n",
    "\n",
    "3. Fit the model with the training data."
   ]
  },
  {
   "cell_type": "code",
   "execution_count": null,
   "metadata": {},
   "outputs": [],
   "source": [
    "# Importing required Keras modules\n",
    "from tensorflow.keras.models import Sequential\n",
    "from tensorflow.keras.layers import LSTM, Dense, Dropout"
   ]
  },
  {
   "cell_type": "markdown",
   "metadata": {},
   "source": [
    "#### Create the LSTM RNN Model Structure\n",
    "\n",
    "Design the structure of your RNN LSTM as follows:\n",
    "\n",
    "* Number of units per layer: `30` (same as the window size)\n",
    "\n",
    "* Dropout fraction: `0.2` (20% of neurons will be randomly dropped on each epoch)\n",
    "\n",
    "* Add three `LSTM` layers to your model, remember to add a `Dropout` layer after each `LSTM` layer, and to set `return_sequences=True` in the first two layers only.\n",
    "\n",
    "* Add a `Dense` output layer with one unit."
   ]
  },
  {
   "cell_type": "code",
   "execution_count": null,
   "metadata": {},
   "outputs": [],
   "source": [
    "# Define the LSTM RNN model.\n",
    "model = Sequential()\n",
    "\n",
    "# Initial model setup\n",
    "number_units = 8\n",
    "dropout_fraction = 0.2\n",
    "\n",
    "# Layer 1\n",
    "model.add(LSTM(\n",
    "    units=number_units,\n",
    "    return_sequences=True,\n",
    "    input_shape=(X_train.shape[1], 1))\n",
    "    )\n",
    "model.add(Dropout(dropout_fraction))\n",
    "\n",
    "# Layer 2\n",
    "model.add(LSTM(units=number_units, return_sequences=True))\n",
    "model.add(Dropout(dropout_fraction))\n",
    "\n",
    "# Layer 3\n",
    "model.add(LSTM(units=number_units))\n",
    "model.add(Dropout(dropout_fraction))\n",
    "\n",
    "# Output layer\n",
    "model.add(Dense(1))"
   ]
  },
  {
   "cell_type": "markdown",
   "metadata": {},
   "source": [
    "#### Compile the LSTM RNN Model\n",
    "\n",
    "Compile the model using the `adam` optimizer, and `mean_square_error` as loss function since the value you want to predict is continuous."
   ]
  },
  {
   "cell_type": "code",
   "execution_count": null,
   "metadata": {},
   "outputs": [],
   "source": [
    "# Compile the model\n",
    "model.compile(optimizer=\"adam\", loss=\"mean_squared_error\")"
   ]
  },
  {
   "cell_type": "code",
   "execution_count": null,
   "metadata": {},
   "outputs": [],
   "source": [
    "# Show the model summary\n",
    "model.summary()"
   ]
  },
  {
   "cell_type": "markdown",
   "metadata": {},
   "source": [
    "#### Train the Model\n",
    "\n",
    "Train (fit) the model with the training data using `10` epochs and a `batch_size=90`. Since you are working with time-series data, remember to set `shuffle=False` since it's necessary to keep the sequential order of the data."
   ]
  },
  {
   "cell_type": "code",
   "execution_count": null,
   "metadata": {},
   "outputs": [],
   "source": [
    "# Train the model\n",
    "model.fit(X_train, y_train, epochs=100, shuffle=False, batch_size=90, verbose=1)"
   ]
  },
  {
   "cell_type": "markdown",
   "metadata": {},
   "source": [
    "---\n",
    "\n",
    "### Model Performance\n",
    "\n",
    "In this section, you will evaluate the model using the test data. \n",
    "\n",
    "You will need to:\n",
    "\n",
    "1. Evaluate the model using the `X_test` and `y_test` data.\n",
    "\n",
    "2. Use the `X_test` data to make predictions.\n",
    "\n",
    "3. Create a DataFrame of Real (`y_test`) vs. predicted values.\n",
    "\n",
    "4. Plot the real vs. predicted values as a line chart."
   ]
  },
  {
   "cell_type": "markdown",
   "metadata": {},
   "source": [
    "#### Evaluate the Model\n",
    "\n",
    "Use the `evaluate()` method of the model using the testing data."
   ]
  },
  {
   "cell_type": "code",
   "execution_count": null,
   "metadata": {},
   "outputs": [],
   "source": [
    "# Evaluate the model\n",
    "model.evaluate(X_test, y_test, verbose=0)"
   ]
  },
  {
   "cell_type": "markdown",
   "metadata": {},
   "source": [
    "#### Make Predictions\n",
    "\n",
    "Use the `predict()` method of the model to make some closing gold price predictions using your brand new LSTM RNN model and your testing data. Save the predictions in a variable called `predicted`."
   ]
  },
  {
   "cell_type": "code",
   "execution_count": null,
   "metadata": {},
   "outputs": [],
   "source": [
    "# Make predictions using the testing data X_test\n",
    "predicted = model.predict(X_test)"
   ]
  },
  {
   "cell_type": "code",
   "execution_count": null,
   "metadata": {},
   "outputs": [],
   "source": [
    "# Recover the original prices instead of the scaled version\n",
    "predicted_prices = scaler.inverse_transform(predicted)\n",
    "real_prices = scaler.inverse_transform(y_test.reshape(-1, 1))"
   ]
  },
  {
   "cell_type": "code",
   "execution_count": null,
   "metadata": {},
   "outputs": [],
   "source": [
    "# Create a DataFrame of Real and Predicted values\n",
    "actual_vs_predicted = pd.DataFrame({\n",
    "    \"Actual\": real_prices.ravel(),\n",
    "    \"Predicted\": predicted_prices.ravel()\n",
    "}, index = features_df.index[-len(real_prices): ]) \n",
    "\n",
    "# Show the DataFrame's head\n",
    "actual_vs_predicted.head()"
   ]
  },
  {
   "cell_type": "code",
   "execution_count": null,
   "metadata": {},
   "outputs": [],
   "source": [
    "# Plot the real vs predicted prices as a line chart\n",
    "actual_vs_predicted.plot(title=\"Actual Vs. Predicted Prices\", figsize=(15, 10))"
   ]
  },
  {
   "cell_type": "code",
   "execution_count": null,
   "metadata": {},
   "outputs": [],
   "source": []
  }
 ],
 "metadata": {
  "kernelspec": {
   "display_name": "algotrading",
   "language": "python",
   "name": "algotrading"
  },
  "language_info": {
   "codemirror_mode": {
    "name": "ipython",
    "version": 3
   },
   "file_extension": ".py",
   "mimetype": "text/x-python",
   "name": "python",
   "nbconvert_exporter": "python",
   "pygments_lexer": "ipython3",
   "version": "3.7.9"
  }
 },
 "nbformat": 4,
 "nbformat_minor": 4
}
