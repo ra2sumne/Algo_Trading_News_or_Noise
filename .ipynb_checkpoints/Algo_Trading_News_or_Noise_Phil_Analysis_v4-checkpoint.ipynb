{
 "cells": [
  {
   "cell_type": "markdown",
   "metadata": {},
   "source": [
    "# Algo Trading News or Noise"
   ]
  },
  {
   "cell_type": "markdown",
   "metadata": {},
   "source": [
    "## Imports\n",
    "---"
   ]
  },
  {
   "cell_type": "code",
   "execution_count": 784,
   "metadata": {},
   "outputs": [],
   "source": [
    "import pandas as pd\n",
    "import numpy as np\n",
    "import datetime as dt\n",
    "from datetime import datetime\n",
    "from dateutil.relativedelta import relativedelta\n",
    "from pathlib import Path\n",
    "%matplotlib inline\n",
    "import matplotlib.pyplot as plt\n",
    "import plotly.express as px\n",
    "import hvplot.pandas\n",
    "from dotenv import load_dotenv\n",
    "import panel as pn\n",
    "from panel.interact import interact\n",
    "from panel import widgets\n",
    "import alpaca_trade_api as tradeapi\n",
    "import quandl\n",
    "import os\n",
    "import requests\n",
    "import ccxt\n",
    "import time"
   ]
  },
  {
   "cell_type": "markdown",
   "metadata": {},
   "source": [
    "## Read in data\n",
    "---"
   ]
  },
  {
   "cell_type": "code",
   "execution_count": 785,
   "metadata": {},
   "outputs": [
    {
     "data": {
      "text/html": [
       "<div>\n",
       "<style scoped>\n",
       "    .dataframe tbody tr th:only-of-type {\n",
       "        vertical-align: middle;\n",
       "    }\n",
       "\n",
       "    .dataframe tbody tr th {\n",
       "        vertical-align: top;\n",
       "    }\n",
       "\n",
       "    .dataframe thead th {\n",
       "        text-align: right;\n",
       "    }\n",
       "</style>\n",
       "<table border=\"1\" class=\"dataframe\">\n",
       "  <thead>\n",
       "    <tr style=\"text-align: right;\">\n",
       "      <th></th>\n",
       "      <th>SPY</th>\n",
       "      <th>XLF</th>\n",
       "      <th>XLK</th>\n",
       "      <th>XLU</th>\n",
       "      <th>XLI</th>\n",
       "      <th>XLV</th>\n",
       "      <th>XLY</th>\n",
       "      <th>XLP</th>\n",
       "      <th>XLB</th>\n",
       "      <th>XOP</th>\n",
       "      <th>XHB</th>\n",
       "      <th>XME</th>\n",
       "      <th>XRT</th>\n",
       "      <th>ETH</th>\n",
       "      <th>LTC</th>\n",
       "    </tr>\n",
       "  </thead>\n",
       "  <tbody>\n",
       "    <tr>\n",
       "      <th>2020-12-24</th>\n",
       "      <td>368.9899</td>\n",
       "      <td>28.94</td>\n",
       "      <td>129.05</td>\n",
       "      <td>61.19</td>\n",
       "      <td>88.01</td>\n",
       "      <td>111.48</td>\n",
       "      <td>157.91</td>\n",
       "      <td>66.44</td>\n",
       "      <td>71.58</td>\n",
       "      <td>58.99</td>\n",
       "      <td>59.40</td>\n",
       "      <td>32.57</td>\n",
       "      <td>64.740</td>\n",
       "      <td>20.09</td>\n",
       "      <td>39.30</td>\n",
       "    </tr>\n",
       "    <tr>\n",
       "      <th>2020-12-28</th>\n",
       "      <td>372.1400</td>\n",
       "      <td>29.07</td>\n",
       "      <td>130.52</td>\n",
       "      <td>61.48</td>\n",
       "      <td>88.09</td>\n",
       "      <td>111.72</td>\n",
       "      <td>159.68</td>\n",
       "      <td>66.97</td>\n",
       "      <td>71.28</td>\n",
       "      <td>57.92</td>\n",
       "      <td>58.41</td>\n",
       "      <td>32.40</td>\n",
       "      <td>65.070</td>\n",
       "      <td>20.25</td>\n",
       "      <td>39.41</td>\n",
       "    </tr>\n",
       "    <tr>\n",
       "      <th>2020-12-29</th>\n",
       "      <td>371.4800</td>\n",
       "      <td>28.97</td>\n",
       "      <td>129.89</td>\n",
       "      <td>61.47</td>\n",
       "      <td>87.52</td>\n",
       "      <td>112.24</td>\n",
       "      <td>159.74</td>\n",
       "      <td>67.42</td>\n",
       "      <td>71.12</td>\n",
       "      <td>57.35</td>\n",
       "      <td>57.92</td>\n",
       "      <td>32.26</td>\n",
       "      <td>64.275</td>\n",
       "      <td>20.02</td>\n",
       "      <td>39.03</td>\n",
       "    </tr>\n",
       "    <tr>\n",
       "      <th>2020-12-30</th>\n",
       "      <td>371.9300</td>\n",
       "      <td>29.11</td>\n",
       "      <td>129.83</td>\n",
       "      <td>61.79</td>\n",
       "      <td>88.13</td>\n",
       "      <td>112.24</td>\n",
       "      <td>160.69</td>\n",
       "      <td>67.13</td>\n",
       "      <td>72.10</td>\n",
       "      <td>59.32</td>\n",
       "      <td>58.16</td>\n",
       "      <td>33.40</td>\n",
       "      <td>64.910</td>\n",
       "      <td>20.26</td>\n",
       "      <td>38.68</td>\n",
       "    </tr>\n",
       "    <tr>\n",
       "      <th>2020-12-31</th>\n",
       "      <td>373.8500</td>\n",
       "      <td>29.47</td>\n",
       "      <td>130.07</td>\n",
       "      <td>62.70</td>\n",
       "      <td>88.59</td>\n",
       "      <td>113.43</td>\n",
       "      <td>160.77</td>\n",
       "      <td>67.05</td>\n",
       "      <td>72.38</td>\n",
       "      <td>58.49</td>\n",
       "      <td>57.63</td>\n",
       "      <td>33.43</td>\n",
       "      <td>64.330</td>\n",
       "      <td>20.21</td>\n",
       "      <td>38.91</td>\n",
       "    </tr>\n",
       "  </tbody>\n",
       "</table>\n",
       "</div>"
      ],
      "text/plain": [
       "                 SPY    XLF     XLK    XLU    XLI     XLV     XLY    XLP  \\\n",
       "2020-12-24  368.9899  28.94  129.05  61.19  88.01  111.48  157.91  66.44   \n",
       "2020-12-28  372.1400  29.07  130.52  61.48  88.09  111.72  159.68  66.97   \n",
       "2020-12-29  371.4800  28.97  129.89  61.47  87.52  112.24  159.74  67.42   \n",
       "2020-12-30  371.9300  29.11  129.83  61.79  88.13  112.24  160.69  67.13   \n",
       "2020-12-31  373.8500  29.47  130.07  62.70  88.59  113.43  160.77  67.05   \n",
       "\n",
       "              XLB    XOP    XHB    XME     XRT    ETH    LTC  \n",
       "2020-12-24  71.58  58.99  59.40  32.57  64.740  20.09  39.30  \n",
       "2020-12-28  71.28  57.92  58.41  32.40  65.070  20.25  39.41  \n",
       "2020-12-29  71.12  57.35  57.92  32.26  64.275  20.02  39.03  \n",
       "2020-12-30  72.10  59.32  58.16  33.40  64.910  20.26  38.68  \n",
       "2020-12-31  72.38  58.49  57.63  33.43  64.330  20.21  38.91  "
      ]
     },
     "execution_count": 785,
     "metadata": {},
     "output_type": "execute_result"
    }
   ],
   "source": [
    "ETF_csv = Path(\"Resources/ETFs0.csv\")\n",
    "ETF_df = pd.read_csv(ETF_csv, index_col='Unnamed: 0', infer_datetime_format=True, parse_dates=True)\n",
    "ETF_df = ETF_df.drop(ETF_df.index[0])\n",
    "ETF_df.index = pd.to_datetime(ETF_df.index, utc=True).date\n",
    "ETF_df.sort_index(inplace=True)\n",
    "ETF_df.tail()"
   ]
  },
  {
   "cell_type": "markdown",
   "metadata": {},
   "source": [
    "## Set analysis inputs\n",
    "---\n"
   ]
  },
  {
   "cell_type": "code",
   "execution_count": 786,
   "metadata": {},
   "outputs": [
    {
     "name": "stdin",
     "output_type": "stream",
     "text": [
      "Please enter the symbol name in caps:\n",
      " SPY\n",
      "Please input the amount of capital you have (USD):\n",
      " 1000\n",
      "Please input the lot size you wish to trade:\n",
      " 100\n",
      "Please choose a short moving average lookback window: 20, 50 days\n",
      " 20\n",
      "Please choose a long moving average lookback window: 100, 200 days\n",
      " 100\n",
      "Please choose a 10, 20, 50 bollinger lookback window\n",
      " 20\n"
     ]
    }
   ],
   "source": [
    "ticker = input(\"Please enter the symbol name in caps:\\n\")\n",
    "\n",
    "# Set intial capital\n",
    "initial_capital = input(\"Please input the amount of capital you have (USD):\\n\")\n",
    "initial_capital = int(initial_capital)\n",
    "\n",
    "# Set lot size\n",
    "share_size = input(\"Please input the lot size you wish to trade:\\n\")\n",
    "share_size = int(share_size)\n",
    "\n",
    "# Set windows\n",
    "short_window = input(\"Please choose a short moving average lookback window: 20, 50 days\\n\")\n",
    "short_window = int(short_window)\n",
    "long_window = input(\"Please choose a long moving average lookback window: 100, 200 days\\n\")\n",
    "long_window = int(long_window)\n",
    "bollinger_window = input(\"Please choose a 10, 20, 50 bollinger lookback window\\n\")\n",
    "bollinger_window = int(bollinger_window)"
   ]
  },
  {
   "cell_type": "markdown",
   "metadata": {},
   "source": [
    "\n",
    "## Signal generation\n",
    "---\n",
    "### SMA\n",
    "*Simple Moving Average for a given lookback window*"
   ]
  },
  {
   "cell_type": "code",
   "execution_count": 787,
   "metadata": {},
   "outputs": [],
   "source": [
    "# Grab `ticker` from the dataset\n",
    "SMA_df = ETF_df[f'{ticker}'].copy().to_frame()"
   ]
  },
  {
   "cell_type": "code",
   "execution_count": 788,
   "metadata": {},
   "outputs": [],
   "source": [
    "# Generate the short and long moving averages (50 and 100 days, respectively)\n",
    "SMA_df[\"SMA_short\"] = SMA_df[{ticker}].rolling(window=short_window).mean()\n",
    "SMA_df[\"SMA_long\"] = SMA_df[{ticker}].rolling(window=long_window).mean()"
   ]
  },
  {
   "cell_type": "code",
   "execution_count": 789,
   "metadata": {},
   "outputs": [],
   "source": [
    "# Initialize the new `Signal` column\n",
    "SMA_df[\"signal\"] = 0.0\n",
    "\n",
    "# Generate the trading signal -1, 1,\n",
    "# where -1 is when the SMA50 is under the SMA100, and\n",
    "# where 1 is when the SMA50 is higher (or crosses over) the SMA100\n",
    "SMA_df[\"signal\"][short_window:] = np.where(\n",
    "    SMA_df[\"SMA_short\"][short_window:] < SMA_df[\"SMA_long\"][short_window:], -1.0, 1.0\n",
    ")"
   ]
  },
  {
   "cell_type": "code",
   "execution_count": 790,
   "metadata": {},
   "outputs": [],
   "source": [
    "# Calculate the points in time at which a position should be taken, 1 or -1\n",
    "SMA_df[\"entry/exit\"] = SMA_df[\"signal\"].diff()"
   ]
  },
  {
   "cell_type": "code",
   "execution_count": 791,
   "metadata": {},
   "outputs": [
    {
     "data": {
      "text/html": [
       "<div>\n",
       "<style scoped>\n",
       "    .dataframe tbody tr th:only-of-type {\n",
       "        vertical-align: middle;\n",
       "    }\n",
       "\n",
       "    .dataframe tbody tr th {\n",
       "        vertical-align: top;\n",
       "    }\n",
       "\n",
       "    .dataframe thead th {\n",
       "        text-align: right;\n",
       "    }\n",
       "</style>\n",
       "<table border=\"1\" class=\"dataframe\">\n",
       "  <thead>\n",
       "    <tr style=\"text-align: right;\">\n",
       "      <th></th>\n",
       "      <th>SPY</th>\n",
       "      <th>SMA_short</th>\n",
       "      <th>SMA_long</th>\n",
       "      <th>signal</th>\n",
       "      <th>entry/exit</th>\n",
       "    </tr>\n",
       "  </thead>\n",
       "  <tbody>\n",
       "    <tr>\n",
       "      <th>2020-12-24</th>\n",
       "      <td>368.9899</td>\n",
       "      <td>367.568975</td>\n",
       "      <td>347.260294</td>\n",
       "      <td>1.0</td>\n",
       "      <td>0.0</td>\n",
       "    </tr>\n",
       "    <tr>\n",
       "      <th>2020-12-28</th>\n",
       "      <td>372.1400</td>\n",
       "      <td>367.993475</td>\n",
       "      <td>347.661094</td>\n",
       "      <td>1.0</td>\n",
       "      <td>0.0</td>\n",
       "    </tr>\n",
       "    <tr>\n",
       "      <th>2020-12-29</th>\n",
       "      <td>371.4800</td>\n",
       "      <td>368.467475</td>\n",
       "      <td>348.032794</td>\n",
       "      <td>1.0</td>\n",
       "      <td>0.0</td>\n",
       "    </tr>\n",
       "    <tr>\n",
       "      <th>2020-12-30</th>\n",
       "      <td>371.9300</td>\n",
       "      <td>368.765475</td>\n",
       "      <td>348.406594</td>\n",
       "      <td>1.0</td>\n",
       "      <td>0.0</td>\n",
       "    </tr>\n",
       "    <tr>\n",
       "      <th>2020-12-31</th>\n",
       "      <td>373.8500</td>\n",
       "      <td>369.119980</td>\n",
       "      <td>348.789594</td>\n",
       "      <td>1.0</td>\n",
       "      <td>0.0</td>\n",
       "    </tr>\n",
       "  </tbody>\n",
       "</table>\n",
       "</div>"
      ],
      "text/plain": [
       "                 SPY   SMA_short    SMA_long  signal  entry/exit\n",
       "2020-12-24  368.9899  367.568975  347.260294     1.0         0.0\n",
       "2020-12-28  372.1400  367.993475  347.661094     1.0         0.0\n",
       "2020-12-29  371.4800  368.467475  348.032794     1.0         0.0\n",
       "2020-12-30  371.9300  368.765475  348.406594     1.0         0.0\n",
       "2020-12-31  373.8500  369.119980  348.789594     1.0         0.0"
      ]
     },
     "execution_count": 791,
     "metadata": {},
     "output_type": "execute_result"
    }
   ],
   "source": [
    "# Tidy up\n",
    "SMA_df.dropna(inplace=True)\n",
    "SMA_df.tail()"
   ]
  },
  {
   "cell_type": "markdown",
   "metadata": {},
   "source": [
    "---\n",
    "### EMA\n",
    "*Exponential-weighted Moving Average for a given lookback window*"
   ]
  },
  {
   "cell_type": "code",
   "execution_count": 792,
   "metadata": {},
   "outputs": [],
   "source": [
    "# Grab `ticker` from the dataset\n",
    "EMA_df = ETF_df[f'{ticker}'].copy().to_frame()"
   ]
  },
  {
   "cell_type": "code",
   "execution_count": 793,
   "metadata": {},
   "outputs": [],
   "source": [
    "# Construct a `Fast` and `Slow` Exponential Moving Average from short and long windows, respectively\n",
    "EMA_df['EMA_short'] = EMA_df[{ticker}].ewm(halflife=short_window).mean()\n",
    "EMA_df['EMA_long'] = EMA_df[{ticker}].ewm(halflife=long_window).mean()"
   ]
  },
  {
   "cell_type": "code",
   "execution_count": 794,
   "metadata": {},
   "outputs": [],
   "source": [
    "# Initialize signal column\n",
    "EMA_df[\"signal\"] = 0.0\n",
    "\n",
    "# Construct a crossover trading signal\n",
    "# where -1 is when the EMA50 is under the EMA200, and\n",
    "# where 1 is when the EMA50 is higher (or crosses over) the EMA200\n",
    "EMA_df[\"signal\"][short_window:] = np.where(\n",
    "    EMA_df[\"EMA_short\"][short_window:] < EMA_df[\"EMA_long\"][short_window:], -1.0, 1.0\n",
    ")"
   ]
  },
  {
   "cell_type": "code",
   "execution_count": 795,
   "metadata": {},
   "outputs": [],
   "source": [
    "# Calculate the points in time at which a position should be taken, 1 or -1\n",
    "EMA_df[\"entry/exit\"] = EMA_df[\"signal\"].diff()"
   ]
  },
  {
   "cell_type": "code",
   "execution_count": 796,
   "metadata": {},
   "outputs": [
    {
     "data": {
      "text/html": [
       "<div>\n",
       "<style scoped>\n",
       "    .dataframe tbody tr th:only-of-type {\n",
       "        vertical-align: middle;\n",
       "    }\n",
       "\n",
       "    .dataframe tbody tr th {\n",
       "        vertical-align: top;\n",
       "    }\n",
       "\n",
       "    .dataframe thead th {\n",
       "        text-align: right;\n",
       "    }\n",
       "</style>\n",
       "<table border=\"1\" class=\"dataframe\">\n",
       "  <thead>\n",
       "    <tr style=\"text-align: right;\">\n",
       "      <th></th>\n",
       "      <th>SPY</th>\n",
       "      <th>EMA_short</th>\n",
       "      <th>EMA_long</th>\n",
       "      <th>signal</th>\n",
       "      <th>entry/exit</th>\n",
       "    </tr>\n",
       "  </thead>\n",
       "  <tbody>\n",
       "    <tr>\n",
       "      <th>2020-12-24</th>\n",
       "      <td>368.9899</td>\n",
       "      <td>356.165678</td>\n",
       "      <td>324.284557</td>\n",
       "      <td>1.0</td>\n",
       "      <td>0.0</td>\n",
       "    </tr>\n",
       "    <tr>\n",
       "      <th>2020-12-28</th>\n",
       "      <td>372.1400</td>\n",
       "      <td>356.709822</td>\n",
       "      <td>324.615119</td>\n",
       "      <td>1.0</td>\n",
       "      <td>0.0</td>\n",
       "    </tr>\n",
       "    <tr>\n",
       "      <th>2020-12-29</th>\n",
       "      <td>371.4800</td>\n",
       "      <td>357.212948</td>\n",
       "      <td>324.938838</td>\n",
       "      <td>1.0</td>\n",
       "      <td>0.0</td>\n",
       "    </tr>\n",
       "    <tr>\n",
       "      <th>2020-12-30</th>\n",
       "      <td>371.9300</td>\n",
       "      <td>357.714265</td>\n",
       "      <td>325.263430</td>\n",
       "      <td>1.0</td>\n",
       "      <td>0.0</td>\n",
       "    </tr>\n",
       "    <tr>\n",
       "      <th>2020-12-31</th>\n",
       "      <td>373.8500</td>\n",
       "      <td>358.263908</td>\n",
       "      <td>325.599042</td>\n",
       "      <td>1.0</td>\n",
       "      <td>0.0</td>\n",
       "    </tr>\n",
       "  </tbody>\n",
       "</table>\n",
       "</div>"
      ],
      "text/plain": [
       "                 SPY   EMA_short    EMA_long  signal  entry/exit\n",
       "2020-12-24  368.9899  356.165678  324.284557     1.0         0.0\n",
       "2020-12-28  372.1400  356.709822  324.615119     1.0         0.0\n",
       "2020-12-29  371.4800  357.212948  324.938838     1.0         0.0\n",
       "2020-12-30  371.9300  357.714265  325.263430     1.0         0.0\n",
       "2020-12-31  373.8500  358.263908  325.599042     1.0         0.0"
      ]
     },
     "execution_count": 796,
     "metadata": {},
     "output_type": "execute_result"
    }
   ],
   "source": [
    "# Tidy up\n",
    "EMA_df.dropna(inplace=True)\n",
    "EMA_df.tail()"
   ]
  },
  {
   "cell_type": "markdown",
   "metadata": {},
   "source": [
    "---\n",
    "### BBD\n",
    "*Bollinger Bands for a given lookback window*"
   ]
  },
  {
   "cell_type": "code",
   "execution_count": 797,
   "metadata": {},
   "outputs": [],
   "source": [
    "# Grab `ticker` from the dataset\n",
    "BBD_df = ETF_df[f'{ticker}'].copy().to_frame()"
   ]
  },
  {
   "cell_type": "code",
   "execution_count": 798,
   "metadata": {},
   "outputs": [],
   "source": [
    "# Calculate rolling mean and standard deviation\n",
    "BBD_df['BBD_mid'] = BBD_df[{ticker}].rolling(window=bollinger_window).mean()\n",
    "BBD_df['BBD_std'] = BBD_df[{ticker}].rolling(window=bollinger_window).std()"
   ]
  },
  {
   "cell_type": "code",
   "execution_count": 799,
   "metadata": {},
   "outputs": [],
   "source": [
    "# Calculate upper and lowers bands of bollinger band\n",
    "BBD_df['BBD_upper']  = BBD_df['BBD_mid'] + (BBD_df['BBD_std'] * 1)\n",
    "BBD_df['BBD_lower']  = BBD_df['BBD_mid'] - (BBD_df['BBD_std'] * 1)"
   ]
  },
  {
   "cell_type": "code",
   "execution_count": 800,
   "metadata": {},
   "outputs": [],
   "source": [
    "# Construct a crossover trading signal\n",
    "# where 1 is when the close is under the lower bound, and\n",
    "# where -1 is when the close is higher the upper bound\n",
    "BBD_df['long'] = np.where(BBD_df[f'{ticker}'] < BBD_df['BBD_lower'], 1.0, 0.0)\n",
    "BBD_df['short'] = np.where(BBD_df[f'{ticker}'] > BBD_df['BBD_upper'], -1.0, 0.0)"
   ]
  },
  {
   "cell_type": "code",
   "execution_count": 801,
   "metadata": {},
   "outputs": [],
   "source": [
    "# Calculate bollinger band trading signal\n",
    "BBD_df['signal'] = BBD_df['long'] + BBD_df['short']\n",
    "BBD_df[\"entry/exit\"] = BBD_df[\"signal\"].diff()"
   ]
  },
  {
   "cell_type": "code",
   "execution_count": 802,
   "metadata": {},
   "outputs": [
    {
     "data": {
      "text/html": [
       "<div>\n",
       "<style scoped>\n",
       "    .dataframe tbody tr th:only-of-type {\n",
       "        vertical-align: middle;\n",
       "    }\n",
       "\n",
       "    .dataframe tbody tr th {\n",
       "        vertical-align: top;\n",
       "    }\n",
       "\n",
       "    .dataframe thead th {\n",
       "        text-align: right;\n",
       "    }\n",
       "</style>\n",
       "<table border=\"1\" class=\"dataframe\">\n",
       "  <thead>\n",
       "    <tr style=\"text-align: right;\">\n",
       "      <th></th>\n",
       "      <th>SPY</th>\n",
       "      <th>BBD_mid</th>\n",
       "      <th>BBD_std</th>\n",
       "      <th>BBD_upper</th>\n",
       "      <th>BBD_lower</th>\n",
       "      <th>long</th>\n",
       "      <th>short</th>\n",
       "      <th>signal</th>\n",
       "      <th>entry/exit</th>\n",
       "    </tr>\n",
       "  </thead>\n",
       "  <tbody>\n",
       "    <tr>\n",
       "      <th>2020-12-24</th>\n",
       "      <td>368.9899</td>\n",
       "      <td>367.568975</td>\n",
       "      <td>2.439630</td>\n",
       "      <td>370.008605</td>\n",
       "      <td>365.129345</td>\n",
       "      <td>0.0</td>\n",
       "      <td>0.0</td>\n",
       "      <td>0.0</td>\n",
       "      <td>0.0</td>\n",
       "    </tr>\n",
       "    <tr>\n",
       "      <th>2020-12-28</th>\n",
       "      <td>372.1400</td>\n",
       "      <td>367.993475</td>\n",
       "      <td>2.460381</td>\n",
       "      <td>370.453856</td>\n",
       "      <td>365.533094</td>\n",
       "      <td>0.0</td>\n",
       "      <td>-1.0</td>\n",
       "      <td>-1.0</td>\n",
       "      <td>-1.0</td>\n",
       "    </tr>\n",
       "    <tr>\n",
       "      <th>2020-12-29</th>\n",
       "      <td>371.4800</td>\n",
       "      <td>368.467475</td>\n",
       "      <td>2.136852</td>\n",
       "      <td>370.604327</td>\n",
       "      <td>366.330623</td>\n",
       "      <td>0.0</td>\n",
       "      <td>-1.0</td>\n",
       "      <td>-1.0</td>\n",
       "      <td>0.0</td>\n",
       "    </tr>\n",
       "    <tr>\n",
       "      <th>2020-12-30</th>\n",
       "      <td>371.9300</td>\n",
       "      <td>368.765475</td>\n",
       "      <td>2.185264</td>\n",
       "      <td>370.950739</td>\n",
       "      <td>366.580211</td>\n",
       "      <td>0.0</td>\n",
       "      <td>-1.0</td>\n",
       "      <td>-1.0</td>\n",
       "      <td>0.0</td>\n",
       "    </tr>\n",
       "    <tr>\n",
       "      <th>2020-12-31</th>\n",
       "      <td>373.8500</td>\n",
       "      <td>369.119980</td>\n",
       "      <td>2.406666</td>\n",
       "      <td>371.526646</td>\n",
       "      <td>366.713314</td>\n",
       "      <td>0.0</td>\n",
       "      <td>-1.0</td>\n",
       "      <td>-1.0</td>\n",
       "      <td>0.0</td>\n",
       "    </tr>\n",
       "  </tbody>\n",
       "</table>\n",
       "</div>"
      ],
      "text/plain": [
       "                 SPY     BBD_mid   BBD_std   BBD_upper   BBD_lower  long  \\\n",
       "2020-12-24  368.9899  367.568975  2.439630  370.008605  365.129345   0.0   \n",
       "2020-12-28  372.1400  367.993475  2.460381  370.453856  365.533094   0.0   \n",
       "2020-12-29  371.4800  368.467475  2.136852  370.604327  366.330623   0.0   \n",
       "2020-12-30  371.9300  368.765475  2.185264  370.950739  366.580211   0.0   \n",
       "2020-12-31  373.8500  369.119980  2.406666  371.526646  366.713314   0.0   \n",
       "\n",
       "            short  signal  entry/exit  \n",
       "2020-12-24    0.0     0.0         0.0  \n",
       "2020-12-28   -1.0    -1.0        -1.0  \n",
       "2020-12-29   -1.0    -1.0         0.0  \n",
       "2020-12-30   -1.0    -1.0         0.0  \n",
       "2020-12-31   -1.0    -1.0         0.0  "
      ]
     },
     "execution_count": 802,
     "metadata": {},
     "output_type": "execute_result"
    }
   ],
   "source": [
    "# Tidy up\n",
    "BBD_df.dropna(inplace=True)\n",
    "BBD_df.tail()"
   ]
  },
  {
   "cell_type": "markdown",
   "metadata": {},
   "source": [
    "---\n",
    "### RSI\n",
    "*Relative Strength Index for a given lookback window*"
   ]
  },
  {
   "cell_type": "code",
   "execution_count": 803,
   "metadata": {},
   "outputs": [],
   "source": [
    "########################### TO DO ########################### "
   ]
  },
  {
   "cell_type": "markdown",
   "metadata": {},
   "source": [
    "---\n",
    "### MACD\n",
    "*Moving Average Convergence/ Divergence for a given lookback window*"
   ]
  },
  {
   "cell_type": "code",
   "execution_count": 804,
   "metadata": {},
   "outputs": [],
   "source": [
    "########################### TO DO ########################### "
   ]
  },
  {
   "cell_type": "markdown",
   "metadata": {},
   "source": [
    "## Backtesting\n",
    "---\n",
    "### Simulated portfolio\n",
    "*Evaluate historic signal performance*"
   ]
  },
  {
   "cell_type": "code",
   "execution_count": 805,
   "metadata": {},
   "outputs": [],
   "source": [
    "# Take a 500 share position where the dual moving average crossover is 1 (SMA50 is greater than SMA100)\n",
    "SMA_df[\"position\"] = share_size * SMA_df[\"signal\"]\n",
    "EMA_df[\"position\"] = share_size * EMA_df[\"signal\"]\n",
    "BBD_df[\"position\"] = share_size * BBD_df[\"signal\"]"
   ]
  },
  {
   "cell_type": "code",
   "execution_count": 806,
   "metadata": {},
   "outputs": [],
   "source": [
    "def signal_position(df, share_size, initial_capital, ticker):\n",
    "    df['position'] = share_size * df['signal']\n",
    "    df[\"entry/exit position\"] = df[\"position\"].diff()\n",
    "    df[\"portfolio holdings\"] = (df[f'{ticker}'] * df[\"entry/exit position\"].cumsum())\n",
    "    df[\"portfolio cash\"] = (initial_capital - (df[f'{ticker}'] * df[\"entry/exit position\"]).cumsum())\n",
    "    df[\"portfolio total\"] = (df[\"portfolio cash\"] + df[\"portfolio holdings\"])\n",
    "    df[\"portfolio daily returns\"] = df[\"portfolio total\"].pct_change()\n",
    "    df[\"portfolio cumulative returns\"] = (1 + df[\"portfolio daily returns\"]).cumprod() - 1\n",
    "    df.dropna(inplace=True)\n",
    "    return df\n",
    "    \n",
    "SMA_df = signal_position(SMA_df, share_size, initial_capital, ticker)\n",
    "EMA_df = signal_position(EMA_df, share_size, initial_capital, ticker)\n",
    "BBD_df = signal_position(BBD_df, share_size, initial_capital, ticker)"
   ]
  },
  {
   "cell_type": "markdown",
   "metadata": {},
   "source": [
    "---\n",
    "### Descriptive statistics\n",
    "*Evaluate backtesting*"
   ]
  },
  {
   "cell_type": "code",
   "execution_count": 815,
   "metadata": {},
   "outputs": [],
   "source": [
    "# Prepare DataFrame for metrics\n",
    "metrics = [\n",
    "    'Annual Return (%)',\n",
    "    'Cumulative Returns (%)',\n",
    "    'Annual Volatility (%)',\n",
    "    'Sharpe Ratio',\n",
    "    'Sortino Ratio',\n",
    "    'Max Drawdown (%)']\n",
    "\n",
    "columns = ['SMA', 'EMA', 'BBD', 'RSI', 'MACD']"
   ]
  },
  {
   "cell_type": "code",
   "execution_count": 816,
   "metadata": {},
   "outputs": [],
   "source": [
    "# Initialize the DataFrame with index set to evaluation metrics and columns\n",
    "eval_df = pd.DataFrame(index=metrics, columns=columns)\n",
    "eval_df.index.name = f'{ticker}' "
   ]
  },
  {
   "cell_type": "code",
   "execution_count": 817,
   "metadata": {},
   "outputs": [
    {
     "data": {
      "text/html": [
       "<div>\n",
       "<style scoped>\n",
       "    .dataframe tbody tr th:only-of-type {\n",
       "        vertical-align: middle;\n",
       "    }\n",
       "\n",
       "    .dataframe tbody tr th {\n",
       "        vertical-align: top;\n",
       "    }\n",
       "\n",
       "    .dataframe thead th {\n",
       "        text-align: right;\n",
       "    }\n",
       "</style>\n",
       "<table border=\"1\" class=\"dataframe\">\n",
       "  <thead>\n",
       "    <tr style=\"text-align: right;\">\n",
       "      <th></th>\n",
       "      <th>SMA</th>\n",
       "      <th>EMA</th>\n",
       "      <th>BBD</th>\n",
       "      <th>RSI</th>\n",
       "      <th>MACD</th>\n",
       "    </tr>\n",
       "    <tr>\n",
       "      <th>SPY</th>\n",
       "      <th></th>\n",
       "      <th></th>\n",
       "      <th></th>\n",
       "      <th></th>\n",
       "      <th></th>\n",
       "    </tr>\n",
       "  </thead>\n",
       "  <tbody>\n",
       "    <tr>\n",
       "      <th>Annual Return (%)</th>\n",
       "      <td>0.67</td>\n",
       "      <td>-87.71</td>\n",
       "      <td>3.62</td>\n",
       "      <td>NaN</td>\n",
       "      <td>NaN</td>\n",
       "    </tr>\n",
       "    <tr>\n",
       "      <th>Cumulative Returns (%)</th>\n",
       "      <td>28.38</td>\n",
       "      <td>-8.3</td>\n",
       "      <td>-4.31</td>\n",
       "      <td>NaN</td>\n",
       "      <td>NaN</td>\n",
       "    </tr>\n",
       "    <tr>\n",
       "      <th>Annual Volatility (%)</th>\n",
       "      <td>0.99</td>\n",
       "      <td>259.44</td>\n",
       "      <td>7.34</td>\n",
       "      <td>NaN</td>\n",
       "      <td>NaN</td>\n",
       "    </tr>\n",
       "    <tr>\n",
       "      <th>Sharpe Ratio</th>\n",
       "      <td>0.68</td>\n",
       "      <td>-0.34</td>\n",
       "      <td>0.49</td>\n",
       "      <td>NaN</td>\n",
       "      <td>NaN</td>\n",
       "    </tr>\n",
       "    <tr>\n",
       "      <th>Sortino Ratio</th>\n",
       "      <td>1.47</td>\n",
       "      <td>-0.34</td>\n",
       "      <td>1.73</td>\n",
       "      <td>NaN</td>\n",
       "      <td>NaN</td>\n",
       "    </tr>\n",
       "    <tr>\n",
       "      <th>Max Drawdown (%)</th>\n",
       "      <td>-11.56</td>\n",
       "      <td>-10.46</td>\n",
       "      <td>-8.94</td>\n",
       "      <td>NaN</td>\n",
       "      <td>NaN</td>\n",
       "    </tr>\n",
       "  </tbody>\n",
       "</table>\n",
       "</div>"
      ],
      "text/plain": [
       "                          SMA     EMA   BBD  RSI MACD\n",
       "SPY                                                  \n",
       "Annual Return (%)        0.67  -87.71  3.62  NaN  NaN\n",
       "Cumulative Returns (%)  28.38    -8.3 -4.31  NaN  NaN\n",
       "Annual Volatility (%)    0.99  259.44  7.34  NaN  NaN\n",
       "Sharpe Ratio             0.68   -0.34  0.49  NaN  NaN\n",
       "Sortino Ratio            1.47   -0.34  1.73  NaN  NaN\n",
       "Max Drawdown (%)       -11.56  -10.46 -8.94  NaN  NaN"
      ]
     },
     "execution_count": 817,
     "metadata": {},
     "output_type": "execute_result"
    }
   ],
   "source": [
    "def evalll_df(ticker):\n",
    "    eval_df = pd.DataFrame(index=metrics, columns=columns)\n",
    "    eval_df.index.name = f'{ticker}' \n",
    "        \n",
    "    def evall_df(df, signal, ticker):\n",
    "        eval_df.loc['Cumulative Returns (%)', signal] = round(df['portfolio cumulative returns'][-1],2)\n",
    "        eval_df.loc['Annual Return (%)', signal] = round((df['portfolio daily returns'].mean() * 252),2)\n",
    "        eval_df.loc['Annual Volatility (%)', signal] = round(df['portfolio daily returns'].std() * np.sqrt(252),2)\n",
    "        eval_df.loc['Sharpe Ratio', signal] = round((df['portfolio daily returns'].mean() * 252) / (df['portfolio daily returns'].std() * np.sqrt(252)), 2)\n",
    "        df.loc[:,'downside returns'] = 0\n",
    "        df_mask = df['portfolio daily returns'] < 0\n",
    "        df.loc[df_mask, 'downside returns'] = df['portfolio daily returns']**2\n",
    "        df_sortino = (df['portfolio daily returns'].mean() * 252) / (np.sqrt(df['downside returns'].mean()) * np.sqrt(252))\n",
    "        eval_df.loc['Sortino Ratio', signal] = round(df_sortino,2)\n",
    "        eval_df.loc['Max Drawdown (%)', signal] = round(df['portfolio cumulative returns'].diff(short_window).min(),2)\n",
    "        return eval_df\n",
    "    eval_df.loc[['Cumulative Returns (%)', 'Annual Return (%)', 'Annual Volatility (%)', 'Sharpe Ratio', 'Sortino Ratio', 'Max Drawdown (%)'],\n",
    "               ['SMA']] = evall_df(SMA_df, 'SMA', ticker)\n",
    "    eval_df.loc[['Cumulative Returns (%)', 'Annual Return (%)', 'Annual Volatility (%)', 'Sharpe Ratio', 'Sortino Ratio', 'Max Drawdown (%)'],\n",
    "               ['EMA']] = evall_df(EMA_df, 'EMA', ticker) \n",
    "    eval_df.loc[['Cumulative Returns (%)', 'Annual Return (%)', 'Annual Volatility (%)', 'Sharpe Ratio', 'Sortino Ratio', 'Max Drawdown (%)'],\n",
    "               ['BBD']] = evall_df(BBD_df, 'BBD', ticker)\n",
    "    return eval_df\n",
    "\n",
    "evalll_df(ticker)"
   ]
  },
  {
   "cell_type": "markdown",
   "metadata": {},
   "source": [
    "## Deep learning\n",
    "---\n",
    "### Signals df"
   ]
  },
  {
   "cell_type": "code",
   "execution_count": 829,
   "metadata": {},
   "outputs": [],
   "source": [
    "# Combine signals\n",
    "signals_df = pd.concat([SMA_df['signal'],\n",
    "                        EMA_df['signal'],\n",
    "                        BBD_df['signal'], \n",
    "                       ], axis=1)\n",
    "signals_df.columns = ['SMA', 'EMA', 'BBD']\n",
    "signals_df.index.name = f'{ticker}'\n",
    "signals_df.dropna(inplace=True)"
   ]
  },
  {
   "cell_type": "code",
   "execution_count": 830,
   "metadata": {},
   "outputs": [],
   "source": [
    "# Shift signals data by 1 in order to prime for predictions\n",
    "signals_df = signals_df.shift(1)"
   ]
  },
  {
   "cell_type": "code",
   "execution_count": 831,
   "metadata": {},
   "outputs": [
    {
     "data": {
      "text/html": [
       "<div>\n",
       "<style scoped>\n",
       "    .dataframe tbody tr th:only-of-type {\n",
       "        vertical-align: middle;\n",
       "    }\n",
       "\n",
       "    .dataframe tbody tr th {\n",
       "        vertical-align: top;\n",
       "    }\n",
       "\n",
       "    .dataframe thead th {\n",
       "        text-align: right;\n",
       "    }\n",
       "</style>\n",
       "<table border=\"1\" class=\"dataframe\">\n",
       "  <thead>\n",
       "    <tr style=\"text-align: right;\">\n",
       "      <th></th>\n",
       "      <th>SMA</th>\n",
       "      <th>EMA</th>\n",
       "      <th>BBD</th>\n",
       "      <th>ACTUAL</th>\n",
       "    </tr>\n",
       "    <tr>\n",
       "      <th>SPY</th>\n",
       "      <th></th>\n",
       "      <th></th>\n",
       "      <th></th>\n",
       "      <th></th>\n",
       "    </tr>\n",
       "  </thead>\n",
       "  <tbody>\n",
       "    <tr>\n",
       "      <th>2020-12-24</th>\n",
       "      <td>1.0</td>\n",
       "      <td>1.0</td>\n",
       "      <td>0.0</td>\n",
       "      <td>1.0</td>\n",
       "    </tr>\n",
       "    <tr>\n",
       "      <th>2020-12-28</th>\n",
       "      <td>1.0</td>\n",
       "      <td>1.0</td>\n",
       "      <td>0.0</td>\n",
       "      <td>1.0</td>\n",
       "    </tr>\n",
       "    <tr>\n",
       "      <th>2020-12-29</th>\n",
       "      <td>1.0</td>\n",
       "      <td>1.0</td>\n",
       "      <td>-1.0</td>\n",
       "      <td>1.0</td>\n",
       "    </tr>\n",
       "    <tr>\n",
       "      <th>2020-12-30</th>\n",
       "      <td>1.0</td>\n",
       "      <td>1.0</td>\n",
       "      <td>-1.0</td>\n",
       "      <td>1.0</td>\n",
       "    </tr>\n",
       "    <tr>\n",
       "      <th>2020-12-31</th>\n",
       "      <td>1.0</td>\n",
       "      <td>1.0</td>\n",
       "      <td>-1.0</td>\n",
       "      <td>1.0</td>\n",
       "    </tr>\n",
       "  </tbody>\n",
       "</table>\n",
       "</div>"
      ],
      "text/plain": [
       "            SMA  EMA  BBD  ACTUAL\n",
       "SPY                              \n",
       "2020-12-24  1.0  1.0  0.0     1.0\n",
       "2020-12-28  1.0  1.0  0.0     1.0\n",
       "2020-12-29  1.0  1.0 -1.0     1.0\n",
       "2020-12-30  1.0  1.0 -1.0     1.0\n",
       "2020-12-31  1.0  1.0 -1.0     1.0"
      ]
     },
     "execution_count": 831,
     "metadata": {},
     "output_type": "execute_result"
    }
   ],
   "source": [
    "# Set dependant variable\n",
    "signals_df['daily return'] = ETF_df[f'{ticker}'].pct_change(short_window)\n",
    "signals_df['positive return'] = np.where(signals_df['daily return'] > 0, 1.0, 0.0)\n",
    "signals_df['negative return'] = np.where(signals_df['daily return'] < 0, -1.0, 0.0)\n",
    "signals_df['ACTUAL'] = signals_df['positive return'] + signals_df['negative return']\n",
    "signals_df.drop(columns=['positive return', 'negative return', 'daily return'], inplace=True)\n",
    "signals_df.dropna(inplace=True)\n",
    "signals_df.tail()"
   ]
  },
  {
   "cell_type": "code",
   "execution_count": 832,
   "metadata": {},
   "outputs": [],
   "source": [
    "from sklearn.ensemble import RandomForestClassifier\n",
    "from sklearn.preprocessing import StandardScaler\n",
    "from sklearn.model_selection import train_test_split\n",
    "from sklearn.metrics import confusion_matrix, accuracy_score, classification_report\n",
    "from sklearn import preprocessing\n",
    "from sklearn import utils"
   ]
  },
  {
   "cell_type": "code",
   "execution_count": 833,
   "metadata": {},
   "outputs": [],
   "source": [
    "# Construct training start and end dates\n",
    "#creating the train and test sets\n",
    "X = signals_df.copy()\n",
    "X.drop('ACTUAL', axis=1, inplace=True)\n",
    "y = signals_df['ACTUAL'].values.reshape(-1,1)"
   ]
  },
  {
   "cell_type": "code",
   "execution_count": 834,
   "metadata": {},
   "outputs": [
    {
     "name": "stderr",
     "output_type": "stream",
     "text": [
      "<ipython-input-834-858b49f8e432>:13: DataConversionWarning: A column-vector y was passed when a 1d array was expected. Please change the shape of y to (n_samples,), for example using ravel().\n",
      "  rf_model = rf_model.fit(X_train_scaled, y_train)\n"
     ]
    },
    {
     "name": "stdout",
     "output_type": "stream",
     "text": [
      "Confusion Matrix\n"
     ]
    },
    {
     "data": {
      "text/html": [
       "<div>\n",
       "<style scoped>\n",
       "    .dataframe tbody tr th:only-of-type {\n",
       "        vertical-align: middle;\n",
       "    }\n",
       "\n",
       "    .dataframe tbody tr th {\n",
       "        vertical-align: top;\n",
       "    }\n",
       "\n",
       "    .dataframe thead th {\n",
       "        text-align: right;\n",
       "    }\n",
       "</style>\n",
       "<table border=\"1\" class=\"dataframe\">\n",
       "  <thead>\n",
       "    <tr style=\"text-align: right;\">\n",
       "      <th></th>\n",
       "      <th>Predicted 0</th>\n",
       "      <th>Predicted 1</th>\n",
       "    </tr>\n",
       "  </thead>\n",
       "  <tbody>\n",
       "    <tr>\n",
       "      <th>Actual 0</th>\n",
       "      <td>157</td>\n",
       "      <td>77</td>\n",
       "    </tr>\n",
       "    <tr>\n",
       "      <th>Actual 1</th>\n",
       "      <td>40</td>\n",
       "      <td>392</td>\n",
       "    </tr>\n",
       "  </tbody>\n",
       "</table>\n",
       "</div>"
      ],
      "text/plain": [
       "          Predicted 0  Predicted 1\n",
       "Actual 0          157           77\n",
       "Actual 1           40          392"
      ]
     },
     "metadata": {},
     "output_type": "display_data"
    },
    {
     "name": "stdout",
     "output_type": "stream",
     "text": [
      "Accuracy Score : 0.8243243243243243\n",
      "Classification Report\n",
      "              precision    recall  f1-score   support\n",
      "\n",
      "        -1.0       0.80      0.67      0.73       234\n",
      "         1.0       0.84      0.91      0.87       432\n",
      "\n",
      "    accuracy                           0.82       666\n",
      "   macro avg       0.82      0.79      0.80       666\n",
      "weighted avg       0.82      0.82      0.82       666\n",
      "\n"
     ]
    }
   ],
   "source": [
    "# Splitting into Train and Test sets\n",
    "X_train, X_test, y_train, y_test = train_test_split(X, y, random_state=78)\n",
    "# Create the StandardScaler instance\n",
    "scaler = StandardScaler()\n",
    "# Fit the Standard Scaler with the training data\n",
    "X_scaler = scaler.fit(X_train)\n",
    "# Scale the training data\n",
    "X_train_scaled = X_scaler.transform(X_train)\n",
    "X_test_scaled = X_scaler.transform(X_test)\n",
    "# Create the random forest classifier instance\n",
    "rf_model = RandomForestClassifier(n_estimators=500, random_state=78)\n",
    "# Fit the model\n",
    "rf_model = rf_model.fit(X_train_scaled, y_train)\n",
    "# Making predictions using the testing data\n",
    "predictions = rf_model.predict(X_test_scaled)\n",
    "# Calculating the confusion matrix\n",
    "cm = confusion_matrix(y_test, predictions)\n",
    "cm_df = pd.DataFrame(\n",
    "    cm, index=[\"Actual 0\", \"Actual 1\"], columns=[\"Predicted 0\", \"Predicted 1\"]\n",
    ")\n",
    "\n",
    "# Calculating the accuracy score\n",
    "acc_score = accuracy_score(y_test, predictions)\n",
    "# Displaying results\n",
    "print(\"Confusion Matrix\")\n",
    "display(cm_df)\n",
    "print(f\"Accuracy Score : {acc_score}\")\n",
    "print(\"Classification Report\")\n",
    "print(classification_report(y_test, predictions))"
   ]
  },
  {
   "cell_type": "code",
   "execution_count": 835,
   "metadata": {},
   "outputs": [
    {
     "data": {
      "text/plain": [
       "[(0.9219788304741454, 'BBD'),\n",
       " (0.06982143218969893, 'SMA'),\n",
       " (0.008199737336155616, 'EMA')]"
      ]
     },
     "execution_count": 835,
     "metadata": {},
     "output_type": "execute_result"
    }
   ],
   "source": [
    "# Get the feature importance array\n",
    "importances = rf_model.feature_importances_\n",
    "# List the top 10 most important features\n",
    "importances_sorted = sorted(zip(rf_model.feature_importances_, X.columns), reverse=True)\n",
    "importances_sorted[:10]"
   ]
  },
  {
   "cell_type": "markdown",
   "metadata": {},
   "source": [
    "---\n",
    "### Features df"
   ]
  },
  {
   "cell_type": "code",
   "execution_count": 836,
   "metadata": {},
   "outputs": [],
   "source": [
    "# Combine signals\n",
    "features_df = pd.concat([ETF_df[f'{ticker}'], \n",
    "                        SMA_df['SMA_long'], SMA_df['SMA_short'],\n",
    "                        EMA_df['EMA_long'], EMA_df['EMA_short'],\n",
    "                        BBD_df['BBD_mid'], BBD_df['BBD_std'], BBD_df['BBD_upper'], BBD_df['BBD_lower']\n",
    "                       ], axis=1)"
   ]
  },
  {
   "cell_type": "code",
   "execution_count": 837,
   "metadata": {},
   "outputs": [
    {
     "data": {
      "text/html": [
       "<div>\n",
       "<style scoped>\n",
       "    .dataframe tbody tr th:only-of-type {\n",
       "        vertical-align: middle;\n",
       "    }\n",
       "\n",
       "    .dataframe tbody tr th {\n",
       "        vertical-align: top;\n",
       "    }\n",
       "\n",
       "    .dataframe thead th {\n",
       "        text-align: right;\n",
       "    }\n",
       "</style>\n",
       "<table border=\"1\" class=\"dataframe\">\n",
       "  <thead>\n",
       "    <tr style=\"text-align: right;\">\n",
       "      <th></th>\n",
       "      <th>SPY</th>\n",
       "      <th>SMA_long</th>\n",
       "      <th>SMA_short</th>\n",
       "      <th>EMA_long</th>\n",
       "      <th>EMA_short</th>\n",
       "      <th>BBD_mid</th>\n",
       "      <th>BBD_std</th>\n",
       "      <th>BBD_upper</th>\n",
       "      <th>BBD_lower</th>\n",
       "    </tr>\n",
       "  </thead>\n",
       "  <tbody>\n",
       "    <tr>\n",
       "      <th>2020-12-24</th>\n",
       "      <td>368.9899</td>\n",
       "      <td>347.260294</td>\n",
       "      <td>367.568975</td>\n",
       "      <td>324.284557</td>\n",
       "      <td>356.165678</td>\n",
       "      <td>367.568975</td>\n",
       "      <td>2.439630</td>\n",
       "      <td>370.008605</td>\n",
       "      <td>365.129345</td>\n",
       "    </tr>\n",
       "    <tr>\n",
       "      <th>2020-12-28</th>\n",
       "      <td>372.1400</td>\n",
       "      <td>347.661094</td>\n",
       "      <td>367.993475</td>\n",
       "      <td>324.615119</td>\n",
       "      <td>356.709822</td>\n",
       "      <td>367.993475</td>\n",
       "      <td>2.460381</td>\n",
       "      <td>370.453856</td>\n",
       "      <td>365.533094</td>\n",
       "    </tr>\n",
       "    <tr>\n",
       "      <th>2020-12-29</th>\n",
       "      <td>371.4800</td>\n",
       "      <td>348.032794</td>\n",
       "      <td>368.467475</td>\n",
       "      <td>324.938838</td>\n",
       "      <td>357.212948</td>\n",
       "      <td>368.467475</td>\n",
       "      <td>2.136852</td>\n",
       "      <td>370.604327</td>\n",
       "      <td>366.330623</td>\n",
       "    </tr>\n",
       "    <tr>\n",
       "      <th>2020-12-30</th>\n",
       "      <td>371.9300</td>\n",
       "      <td>348.406594</td>\n",
       "      <td>368.765475</td>\n",
       "      <td>325.263430</td>\n",
       "      <td>357.714265</td>\n",
       "      <td>368.765475</td>\n",
       "      <td>2.185264</td>\n",
       "      <td>370.950739</td>\n",
       "      <td>366.580211</td>\n",
       "    </tr>\n",
       "    <tr>\n",
       "      <th>2020-12-31</th>\n",
       "      <td>373.8500</td>\n",
       "      <td>348.789594</td>\n",
       "      <td>369.119980</td>\n",
       "      <td>325.599042</td>\n",
       "      <td>358.263908</td>\n",
       "      <td>369.119980</td>\n",
       "      <td>2.406666</td>\n",
       "      <td>371.526646</td>\n",
       "      <td>366.713314</td>\n",
       "    </tr>\n",
       "  </tbody>\n",
       "</table>\n",
       "</div>"
      ],
      "text/plain": [
       "                 SPY    SMA_long   SMA_short    EMA_long   EMA_short  \\\n",
       "2020-12-24  368.9899  347.260294  367.568975  324.284557  356.165678   \n",
       "2020-12-28  372.1400  347.661094  367.993475  324.615119  356.709822   \n",
       "2020-12-29  371.4800  348.032794  368.467475  324.938838  357.212948   \n",
       "2020-12-30  371.9300  348.406594  368.765475  325.263430  357.714265   \n",
       "2020-12-31  373.8500  348.789594  369.119980  325.599042  358.263908   \n",
       "\n",
       "               BBD_mid   BBD_std   BBD_upper   BBD_lower  \n",
       "2020-12-24  367.568975  2.439630  370.008605  365.129345  \n",
       "2020-12-28  367.993475  2.460381  370.453856  365.533094  \n",
       "2020-12-29  368.467475  2.136852  370.604327  366.330623  \n",
       "2020-12-30  368.765475  2.185264  370.950739  366.580211  \n",
       "2020-12-31  369.119980  2.406666  371.526646  366.713314  "
      ]
     },
     "execution_count": 837,
     "metadata": {},
     "output_type": "execute_result"
    }
   ],
   "source": [
    "features_df.dropna(inplace=True)\n",
    "features_df.tail()"
   ]
  },
  {
   "cell_type": "code",
   "execution_count": 838,
   "metadata": {},
   "outputs": [],
   "source": [
    "# Construct training start and end dates\n",
    "#creating the train and test sets\n",
    "# X = features_df.copy()\n",
    "# X.drop('BBD_upper', axis=1, inplace=True)\n",
    "# y = features_df['BBD_upper'].values.reshape(-1,1)"
   ]
  },
  {
   "cell_type": "code",
   "execution_count": null,
   "metadata": {},
   "outputs": [],
   "source": []
  }
 ],
 "metadata": {
  "kernelspec": {
   "display_name": "machinelearning",
   "language": "python",
   "name": "machinelearning"
  },
  "language_info": {
   "codemirror_mode": {
    "name": "ipython",
    "version": 3
   },
   "file_extension": ".py",
   "mimetype": "text/x-python",
   "name": "python",
   "nbconvert_exporter": "python",
   "pygments_lexer": "ipython3",
   "version": "3.8.5"
  }
 },
 "nbformat": 4,
 "nbformat_minor": 4
}
